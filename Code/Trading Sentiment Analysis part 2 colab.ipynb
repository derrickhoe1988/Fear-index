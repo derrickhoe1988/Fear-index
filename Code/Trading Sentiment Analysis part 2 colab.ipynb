{
  "nbformat": 4,
  "nbformat_minor": 0,
  "metadata": {
    "kernelspec": {
      "display_name": "Python 3",
      "language": "python",
      "name": "python3"
    },
    "language_info": {
      "codemirror_mode": {
        "name": "ipython",
        "version": 3
      },
      "file_extension": ".py",
      "mimetype": "text/x-python",
      "name": "python",
      "nbconvert_exporter": "python",
      "pygments_lexer": "ipython3",
      "version": "3.7.6"
    },
    "colab": {
      "name": "Validation dataset part 5.ipynb",
      "provenance": [],
      "collapsed_sections": []
    }
  },
  "cells": [
    {
      "cell_type": "markdown",
      "metadata": {
        "id": "upaP_LuAft_z",
        "colab_type": "text"
      },
      "source": [
        "# Project 4: Predicting Volatility Index price with Sentiment Analysis on News headlines\n",
        "\n",
        "## This is the final Script to run on daily basis for prediction of Vix index and sentiment review."
      ]
    },
    {
      "cell_type": "markdown",
      "metadata": {
        "id": "3tcTYU2qft_0",
        "colab_type": "text"
      },
      "source": [
        "# Dataset \n",
        "\n",
        "We will retrieve a set of data from a api source called News Api.\n",
        "\n",
        "News API is a simple HTTP REST API for searching and retrieving live articles from all over the web, in this case we have choosen to retrive top news headlnes.\n",
        "\n",
        "**News headlines** consist of : \n",
        "\n",
        "- Top 10 BBC Headlines\n",
        "- Top 10 Google Headlines\n",
        "- Top 10 Tech Crunch Headlines\n",
        "- Top 20 Trump Headlines\n",
        "- Top 20 UK headlines\n",
        "- Top 20 US headlines\n",
        "\n",
        "Source  :  https://newsapi.org/docs/endpoints/top-headlines"
      ]
    },
    {
      "cell_type": "markdown",
      "metadata": {
        "id": "Aez6RNz2ft_1",
        "colab_type": "text"
      },
      "source": [
        "# Model\n",
        "\n",
        "We will run through the our NewsApi through the models below :\n",
        "\n",
        "1. Chosen Classifier Model  (3 stacked LSTM)\n",
        "\n",
        "2. TradingSentiment Tool    (Textblob)"
      ]
    },
    {
      "cell_type": "code",
      "metadata": {
        "id": "mTpbYjk8ft_1",
        "colab_type": "code",
        "colab": {}
      },
      "source": [
        "#Remember to install these libraries before hand \n",
        "#!pip install newsapi\n",
        "#!pip install newsapi-python\n",
        "#!pip install keras\n",
        "#!pip install tensorflow\n",
        "#!pip install textblob"
      ],
      "execution_count": 0,
      "outputs": []
    },
    {
      "cell_type": "code",
      "metadata": {
        "id": "Y2pFxWxlft_6",
        "colab_type": "code",
        "outputId": "090ed15a-c383-4eab-8b5e-5bd53ed598b2",
        "colab": {
          "base_uri": "https://localhost:8080/",
          "height": 35
        }
      },
      "source": [
        "# get some libraries that will be useful\n",
        "import numpy as np # linear algebra\n",
        "import pandas as pd\n",
        "import string\n",
        "\n",
        "# the Naive Bayes model\n",
        "from sklearn.naive_bayes import MultinomialNB\n",
        "# function to split the data for cross-validation\n",
        "from sklearn.model_selection import train_test_split\n",
        "# function for transforming documents into counts\n",
        "from sklearn.feature_extraction.text import CountVectorizer\n",
        "\n",
        "#keras modeling\n",
        "from keras.utils import np_utils\n",
        "from keras.models import Sequential\n",
        "from keras.layers.recurrent import LSTM\n",
        "from keras.preprocessing import sequence\n",
        "from keras.preprocessing.text import Tokenizer\n",
        "from keras.layers.embeddings import Embedding\n",
        "from keras.layers import Dense, Dropout, Activation\n",
        "from keras.layers.convolutional import Convolution1D, Conv1D, MaxPooling1D\n",
        "\n",
        "#Sentiment modelling\n",
        "from textblob import TextBlob\n",
        "\n",
        "#to filter out selected dates from dataset\n",
        "import datetime\n",
        "import requests"
      ],
      "execution_count": 0,
      "outputs": [
        {
          "output_type": "stream",
          "text": [
            "Using TensorFlow backend.\n"
          ],
          "name": "stderr"
        }
      ]
    },
    {
      "cell_type": "code",
      "metadata": {
        "id": "Xr_1fLB9kPQ1",
        "colab_type": "code",
        "colab": {}
      },
      "source": [
        "#to import Libraries to import files from Drive into Google-colab\n",
        "from pydrive.auth import GoogleAuth\n",
        "from pydrive.drive import GoogleDrive\n",
        "from google.colab import auth\n",
        "from oauth2client.client import GoogleCredentials"
      ],
      "execution_count": 0,
      "outputs": []
    },
    {
      "cell_type": "code",
      "metadata": {
        "id": "tWLJHly4ktbZ",
        "colab_type": "code",
        "colab": {}
      },
      "source": [
        "#authenticate email ID\n",
        "auth.authenticate_user()\n",
        "gauth = GoogleAuth()\n",
        "gauth.credentials = GoogleCredentials.get_application_default()\n",
        "drive = GoogleDrive(gauth)"
      ],
      "execution_count": 0,
      "outputs": []
    },
    {
      "cell_type": "markdown",
      "metadata": {
        "id": "dWy51UZsM3K7",
        "colab_type": "text"
      },
      "source": [
        "To obtain the ID below to get the file, please follow the link attached step by step\n",
        "LINK to import files from Google Drive to Google Colab : https://buomsoo-kim.github.io/colab/2018/04/16/Importing-files-from-Google-Drive-in-Google-Colab.md/\n",
        "\n"
      ]
    },
    {
      "cell_type": "code",
      "metadata": {
        "id": "g4IP276ilOiR",
        "colab_type": "code",
        "colab": {}
      },
      "source": [
        "#to get the file\n",
        "downloaded = drive.CreateFile({'id':'yourownid'}) #follow the link above to input your own ID\n",
        "#download the file\n",
        "downloaded.GetContentFile('final_dataframe.csv')"
      ],
      "execution_count": 0,
      "outputs": []
    },
    {
      "cell_type": "code",
      "metadata": {
        "id": "UfHJ_4_4ft_9",
        "colab_type": "code",
        "outputId": "8a838e39-857b-42e5-9bb0-de1b1dc50be2",
        "colab": {
          "base_uri": "https://localhost:8080/",
          "height": 202
        }
      },
      "source": [
        "#Read the file\n",
        "Finaldf = pd.read_csv(\"final_dataframe.csv\")\n",
        "Finaldf.head()"
      ],
      "execution_count": 0,
      "outputs": [
        {
          "output_type": "execute_result",
          "data": {
            "text/html": [
              "<div>\n",
              "<style scoped>\n",
              "    .dataframe tbody tr th:only-of-type {\n",
              "        vertical-align: middle;\n",
              "    }\n",
              "\n",
              "    .dataframe tbody tr th {\n",
              "        vertical-align: top;\n",
              "    }\n",
              "\n",
              "    .dataframe thead th {\n",
              "        text-align: right;\n",
              "    }\n",
              "</style>\n",
              "<table border=\"1\" class=\"dataframe\">\n",
              "  <thead>\n",
              "    <tr style=\"text-align: right;\">\n",
              "      <th></th>\n",
              "      <th>Date</th>\n",
              "      <th>all25</th>\n",
              "      <th>upordown</th>\n",
              "    </tr>\n",
              "  </thead>\n",
              "  <tbody>\n",
              "    <tr>\n",
              "      <th>0</th>\n",
              "      <td>2008-08-08</td>\n",
              "      <td>0,b\"georgia 'downs two russian warplanes' as c...</td>\n",
              "      <td>0.0</td>\n",
              "    </tr>\n",
              "    <tr>\n",
              "      <th>1</th>\n",
              "      <td>2008-08-11</td>\n",
              "      <td>1,b'why wont america and nato help us? if they...</td>\n",
              "      <td>0.0</td>\n",
              "    </tr>\n",
              "    <tr>\n",
              "      <th>2</th>\n",
              "      <td>2008-08-12</td>\n",
              "      <td>0,b'remember that adorable 9-year-old who sang...</td>\n",
              "      <td>1.0</td>\n",
              "    </tr>\n",
              "    <tr>\n",
              "      <th>3</th>\n",
              "      <td>2008-08-13</td>\n",
              "      <td>0,b' u.s. refuses israel weapons to attack ira...</td>\n",
              "      <td>0.0</td>\n",
              "    </tr>\n",
              "    <tr>\n",
              "      <th>4</th>\n",
              "      <td>2008-08-14</td>\n",
              "      <td>1,b'all the experts admit that we should legal...</td>\n",
              "      <td>0.0</td>\n",
              "    </tr>\n",
              "  </tbody>\n",
              "</table>\n",
              "</div>"
            ],
            "text/plain": [
              "         Date                                              all25  upordown\n",
              "0  2008-08-08  0,b\"georgia 'downs two russian warplanes' as c...       0.0\n",
              "1  2008-08-11  1,b'why wont america and nato help us? if they...       0.0\n",
              "2  2008-08-12  0,b'remember that adorable 9-year-old who sang...       1.0\n",
              "3  2008-08-13  0,b' u.s. refuses israel weapons to attack ira...       0.0\n",
              "4  2008-08-14  1,b'all the experts admit that we should legal...       0.0"
            ]
          },
          "metadata": {
            "tags": []
          },
          "execution_count": 6
        }
      ]
    },
    {
      "cell_type": "markdown",
      "metadata": {
        "id": "7sWDW3BQfuAA",
        "colab_type": "text"
      },
      "source": [
        "# Build our model first. "
      ]
    },
    {
      "cell_type": "code",
      "metadata": {
        "id": "Nr9Xm5r8fuAB",
        "colab_type": "code",
        "colab": {}
      },
      "source": [
        "#we will resue the same dataset from our model to train up the model.\n",
        "X = Finaldf['all25']\n",
        "y = Finaldf['upordown']"
      ],
      "execution_count": 0,
      "outputs": []
    },
    {
      "cell_type": "code",
      "metadata": {
        "id": "4Jw9suMXfuAE",
        "colab_type": "code",
        "colab": {}
      },
      "source": [
        "X_train, X_val, y_train, y_val = train_test_split(X, y, test_size=0.50,stratify = y)"
      ],
      "execution_count": 0,
      "outputs": []
    },
    {
      "cell_type": "code",
      "metadata": {
        "id": "blYqDFR8fuAI",
        "colab_type": "code",
        "colab": {}
      },
      "source": [
        "#num_words - This will be the maximum number of words \n",
        "#from our resulting tokenized data vocabulary which are to be used, \n",
        "#truncated after the 10000 most common words in our case.\n",
        "tokenizer = Tokenizer(num_words=10000)\n",
        "# Tokenize our training data'trainheadlines'\n",
        "tokenizer.fit_on_texts(X_train)\n",
        "# Encode training data sentences into sequences for both train and test data.\n",
        "sequences_train = tokenizer.texts_to_sequences(X_train)\n",
        "sequences_test = tokenizer.texts_to_sequences(X_val)"
      ],
      "execution_count": 0,
      "outputs": []
    },
    {
      "cell_type": "code",
      "metadata": {
        "id": "8_ccWh0gfuAM",
        "colab_type": "code",
        "colab": {}
      },
      "source": [
        "#Features for model training\n",
        "#nb_classes - total number of classes.\n",
        "nb_classes = 2\n",
        "# maxlen is feature of maximum sequence length for padding our encoded sentences\n",
        "maxlen = 200\n",
        "# Pad the training sequences as we need our encoded sequences to be of the same length. \n",
        "# use that to pad all other sequences with extra '0's at the end ('post') and\n",
        "# will also truncate any sequences longer than maximum length from the end ('post') as well. \n",
        "X_train = sequence.pad_sequences(sequences_train, maxlen=maxlen)\n",
        "X_val = sequence.pad_sequences(sequences_test, maxlen=maxlen)\n",
        "#convert them into array before we put them into model\n",
        "y_train = np.array(y_train)\n",
        "y_val = np.array(y_val)\n",
        "# np_utils.to_categorical to convert array of labeled data(from 0 to nb_classes-1) to one-hot vector.\n",
        "Y_train = np_utils.to_categorical(y_train, 2)\n",
        "Y_val = np_utils.to_categorical(y_val, 2)"
      ],
      "execution_count": 0,
      "outputs": []
    },
    {
      "cell_type": "code",
      "metadata": {
        "id": "iAfisiFtfuAP",
        "colab_type": "code",
        "outputId": "e56ec9c7-f452-446a-b119-249a89d93701",
        "colab": {
          "base_uri": "https://localhost:8080/",
          "height": 35
        }
      },
      "source": [
        "print('Build LSTM model...')\n",
        "# expected input data shape: (batch_size, timesteps, data_dim)\n",
        "data_dim = 16\n",
        "timesteps = 8\n",
        "max_features = 10000\n",
        "#intialize model\n",
        "model = Sequential()\n",
        "#Embedding with 128\n",
        "model.add(Embedding(max_features, 128))\n",
        "# returns 16 sequences of vectors of dimension 32\n",
        "model.add(LSTM(32, return_sequences=True,input_shape=(timesteps, 16)))  \n",
        "# returns a sequence of vectors of dimension 32\n",
        "model.add(LSTM(32, return_sequences=True)) \n",
        "# return a single vector of dimension 32\n",
        "model.add(LSTM(32))  \n",
        "model.add(Dense(nb_classes))\n",
        "model.add(Activation('softmax'))\n",
        "#Compile model\n",
        "model.compile(loss='binary_crossentropy',\n",
        "              optimizer='adam',\n",
        "              metrics=['accuracy'])"
      ],
      "execution_count": 0,
      "outputs": [
        {
          "output_type": "stream",
          "text": [
            "Build LSTM model...\n"
          ],
          "name": "stdout"
        }
      ]
    },
    {
      "cell_type": "code",
      "metadata": {
        "id": "LMS2AW-5fuAS",
        "colab_type": "code",
        "outputId": "cf8399ab-f717-4741-e3a6-71670a930cc9",
        "colab": {
          "base_uri": "https://localhost:8080/",
          "height": 260
        }
      },
      "source": [
        "# Final evaluation of the model\n",
        "model.fit(X_train, Y_train, batch_size=64, epochs=5, validation_data=(X_val, Y_val))"
      ],
      "execution_count": 0,
      "outputs": [
        {
          "output_type": "stream",
          "text": [
            "/usr/local/lib/python3.6/dist-packages/tensorflow/python/framework/indexed_slices.py:434: UserWarning: Converting sparse IndexedSlices to a dense Tensor of unknown shape. This may consume a large amount of memory.\n",
            "  \"Converting sparse IndexedSlices to a dense Tensor of unknown shape. \"\n"
          ],
          "name": "stderr"
        },
        {
          "output_type": "stream",
          "text": [
            "Train on 994 samples, validate on 995 samples\n",
            "Epoch 1/5\n",
            "994/994 [==============================] - 8s 8ms/step - loss: 0.6839 - accuracy: 0.5996 - val_loss: 0.6716 - val_accuracy: 0.6040\n",
            "Epoch 2/5\n",
            "994/994 [==============================] - 7s 7ms/step - loss: 0.6476 - accuracy: 0.6036 - val_loss: 0.6874 - val_accuracy: 0.6040\n",
            "Epoch 3/5\n",
            "994/994 [==============================] - 7s 7ms/step - loss: 0.4010 - accuracy: 0.8119 - val_loss: 0.8982 - val_accuracy: 0.4503\n",
            "Epoch 4/5\n",
            "994/994 [==============================] - 7s 7ms/step - loss: 0.1313 - accuracy: 0.9688 - val_loss: 1.3788 - val_accuracy: 0.5307\n",
            "Epoch 5/5\n",
            "994/994 [==============================] - 7s 7ms/step - loss: 0.0164 - accuracy: 1.0000 - val_loss: 1.8265 - val_accuracy: 0.5296\n"
          ],
          "name": "stdout"
        },
        {
          "output_type": "execute_result",
          "data": {
            "text/plain": [
              "<keras.callbacks.callbacks.History at 0x7fd1a2d26668>"
            ]
          },
          "metadata": {
            "tags": []
          },
          "execution_count": 12
        }
      ]
    },
    {
      "cell_type": "markdown",
      "metadata": {
        "id": "aYrruO-KfuAV",
        "colab_type": "text"
      },
      "source": [
        "# Lets proceed to get our news headlines from NEWSAPI"
      ]
    },
    {
      "cell_type": "code",
      "metadata": {
        "id": "622pfCbQfuAV",
        "colab_type": "code",
        "colab": {}
      },
      "source": [
        "# BBC Top 10 headlines "
      ],
      "execution_count": 0,
      "outputs": []
    },
    {
      "cell_type": "code",
      "metadata": {
        "id": "dRCczQe5fuAY",
        "colab_type": "code",
        "colab": {}
      },
      "source": [
        "url = ('http://newsapi.org/v2/top-headlines?sources=bbc-news&apiKey=b92f31e6a03f4cf8a1fb120e90ef5451')\n",
        "headers ={'User-agent':'yourownheader'}"
      ],
      "execution_count": 0,
      "outputs": []
    },
    {
      "cell_type": "markdown",
      "metadata": {
        "id": "MQ2P2t2myrE0",
        "colab_type": "text"
      },
      "source": [
        "To test the connection of API"
      ]
    },
    {
      "cell_type": "code",
      "metadata": {
        "id": "cOCvlYamfuAc",
        "colab_type": "code",
        "colab": {}
      },
      "source": [
        "res = requests.get(url,headers = headers)"
      ],
      "execution_count": 0,
      "outputs": []
    },
    {
      "cell_type": "code",
      "metadata": {
        "id": "jVU5DqAMfuAf",
        "colab_type": "code",
        "outputId": "586fa784-b479-410a-d9be-81bb1c8d1839",
        "colab": {
          "base_uri": "https://localhost:8080/",
          "height": 35
        }
      },
      "source": [
        "res.status_code"
      ],
      "execution_count": 0,
      "outputs": [
        {
          "output_type": "execute_result",
          "data": {
            "text/plain": [
              "200"
            ]
          },
          "metadata": {
            "tags": []
          },
          "execution_count": 16
        }
      ]
    },
    {
      "cell_type": "code",
      "metadata": {
        "id": "4StBRnOUfuAh",
        "colab_type": "code",
        "colab": {}
      },
      "source": [
        "bbcheadline=res.json()\n",
        "sorted(bbcheadline.keys())\n",
        "bbcheadline = bbcheadline['articles']"
      ],
      "execution_count": 0,
      "outputs": []
    },
    {
      "cell_type": "code",
      "metadata": {
        "id": "9-d7e_KufuAk",
        "colab_type": "code",
        "outputId": "68943d9b-ea35-4010-c441-9a7c19c9dd34",
        "colab": {
          "base_uri": "https://localhost:8080/",
          "height": 529
        }
      },
      "source": [
        "#convert to dataframe first\n",
        "df =  pd.DataFrame(bbcheadline)\n",
        "df"
      ],
      "execution_count": 0,
      "outputs": [
        {
          "output_type": "execute_result",
          "data": {
            "text/html": [
              "<div>\n",
              "<style scoped>\n",
              "    .dataframe tbody tr th:only-of-type {\n",
              "        vertical-align: middle;\n",
              "    }\n",
              "\n",
              "    .dataframe tbody tr th {\n",
              "        vertical-align: top;\n",
              "    }\n",
              "\n",
              "    .dataframe thead th {\n",
              "        text-align: right;\n",
              "    }\n",
              "</style>\n",
              "<table border=\"1\" class=\"dataframe\">\n",
              "  <thead>\n",
              "    <tr style=\"text-align: right;\">\n",
              "      <th></th>\n",
              "      <th>source</th>\n",
              "      <th>author</th>\n",
              "      <th>title</th>\n",
              "      <th>description</th>\n",
              "      <th>url</th>\n",
              "      <th>urlToImage</th>\n",
              "      <th>publishedAt</th>\n",
              "      <th>content</th>\n",
              "    </tr>\n",
              "  </thead>\n",
              "  <tbody>\n",
              "    <tr>\n",
              "      <th>0</th>\n",
              "      <td>{'id': 'bbc-news', 'name': 'BBC News'}</td>\n",
              "      <td>BBC News</td>\n",
              "      <td>India evacuates millions ahead of super cyclone</td>\n",
              "      <td>The storm is expected to make landfall on Wedn...</td>\n",
              "      <td>http://www.bbc.co.uk/news/world-asia-india-527...</td>\n",
              "      <td>https://ichef.bbci.co.uk/news/1024/branded_new...</td>\n",
              "      <td>2020-05-19T05:45:03Z</td>\n",
              "      <td>Image copyrightGetty ImagesImage caption\\r\\n T...</td>\n",
              "    </tr>\n",
              "    <tr>\n",
              "      <th>1</th>\n",
              "      <td>{'id': 'bbc-news', 'name': 'BBC News'}</td>\n",
              "      <td>BBC News</td>\n",
              "      <td>Trump gives WHO ultimatum over virus handling</td>\n",
              "      <td>The US president accuses the UN agency of havi...</td>\n",
              "      <td>http://www.bbc.co.uk/news/world-us-canada-5271...</td>\n",
              "      <td>https://ichef.bbci.co.uk/news/1024/branded_new...</td>\n",
              "      <td>2020-05-19T04:56:47Z</td>\n",
              "      <td>Image copyrightGetty ImagesImage caption\\r\\n M...</td>\n",
              "    </tr>\n",
              "    <tr>\n",
              "      <th>2</th>\n",
              "      <td>{'id': 'bbc-news', 'name': 'BBC News'}</td>\n",
              "      <td>BBC News</td>\n",
              "      <td>Myanmar drugs seizure 'off the scale'</td>\n",
              "      <td>Police find the biggest ever haul of synthetic...</td>\n",
              "      <td>http://www.bbc.co.uk/news/world-asia-52712014</td>\n",
              "      <td>https://ichef.bbci.co.uk/news/1024/branded_new...</td>\n",
              "      <td>2020-05-19T03:17:19Z</td>\n",
              "      <td>Image copyrightReutersImage caption\\r\\n The dr...</td>\n",
              "    </tr>\n",
              "    <tr>\n",
              "      <th>3</th>\n",
              "      <td>{'id': 'bbc-news', 'name': 'BBC News'}</td>\n",
              "      <td>BBC News</td>\n",
              "      <td>Coronavirus updates: Trump slams WHO as 'puppe...</td>\n",
              "      <td>President Trump - who faces re-election this y...</td>\n",
              "      <td>http://www.bbc.co.uk/news/live/world-52717664</td>\n",
              "      <td>https://m.files.bbci.co.uk/modules/bbc-morph-n...</td>\n",
              "      <td>2020-05-19T02:07:25.9107814Z</td>\n",
              "      <td>US President Donald Trump has accused the Worl...</td>\n",
              "    </tr>\n",
              "    <tr>\n",
              "      <th>4</th>\n",
              "      <td>{'id': 'bbc-news', 'name': 'BBC News'}</td>\n",
              "      <td>BBC News</td>\n",
              "      <td>The secret in your sneakers</td>\n",
              "      <td>The sneaker industry now accounts for almost h...</td>\n",
              "      <td>http://www.bbc.co.uk/news/stories-52708487</td>\n",
              "      <td>https://ichef.bbci.co.uk/news/1024/branded_new...</td>\n",
              "      <td>2020-05-18T23:39:59Z</td>\n",
              "      <td>None</td>\n",
              "    </tr>\n",
              "    <tr>\n",
              "      <th>5</th>\n",
              "      <td>{'id': 'bbc-news', 'name': 'BBC News'}</td>\n",
              "      <td>BBC News</td>\n",
              "      <td>What's going wrong in Sweden's care homes?</td>\n",
              "      <td>Swedish healthcare is under scrutiny over the ...</td>\n",
              "      <td>http://www.bbc.co.uk/news/world-europe-52704836</td>\n",
              "      <td>https://ichef.bbci.co.uk/news/1024/branded_new...</td>\n",
              "      <td>2020-05-18T23:13:57Z</td>\n",
              "      <td>Image copyrightGetty ImagesImage caption\\r\\n S...</td>\n",
              "    </tr>\n",
              "    <tr>\n",
              "      <th>6</th>\n",
              "      <td>{'id': 'bbc-news', 'name': 'BBC News'}</td>\n",
              "      <td>BBC News</td>\n",
              "      <td>Pompeo denies 'retaliation' in State Departmen...</td>\n",
              "      <td>The US Secretary of State denied wanting an in...</td>\n",
              "      <td>http://www.bbc.co.uk/news/world-us-canada-5271...</td>\n",
              "      <td>https://ichef.bbci.co.uk/news/1024/branded_new...</td>\n",
              "      <td>2020-05-18T21:12:25Z</td>\n",
              "      <td>Image copyrightGetty ImagesImage caption\\r\\n S...</td>\n",
              "    </tr>\n",
              "    <tr>\n",
              "      <th>7</th>\n",
              "      <td>{'id': 'bbc-news', 'name': 'BBC News'}</td>\n",
              "      <td>BBC News</td>\n",
              "      <td>Trump taking unproven drug to ward off coronav...</td>\n",
              "      <td>Speaking at the White House, he told reporters...</td>\n",
              "      <td>http://www.bbc.co.uk/news/world-us-canada-5271...</td>\n",
              "      <td>https://ichef.bbci.co.uk/news/1024/branded_new...</td>\n",
              "      <td>2020-05-18T21:02:58Z</td>\n",
              "      <td>Image copyrightEPAImage caption\\r\\n Donald Tru...</td>\n",
              "    </tr>\n",
              "    <tr>\n",
              "      <th>8</th>\n",
              "      <td>{'id': 'bbc-news', 'name': 'BBC News'}</td>\n",
              "      <td>BBC News</td>\n",
              "      <td>FBI: US naval base attack 'motivated by Al-Qaeda'</td>\n",
              "      <td>The Saudi Air Force officer who killed three A...</td>\n",
              "      <td>http://www.bbc.co.uk/news/world-us-canada-5271...</td>\n",
              "      <td>https://ichef.bbci.co.uk/news/1024/branded_new...</td>\n",
              "      <td>2020-05-18T16:41:04Z</td>\n",
              "      <td>Image copyrightEPAImage caption\\r\\n The attack...</td>\n",
              "    </tr>\n",
              "    <tr>\n",
              "      <th>9</th>\n",
              "      <td>{'id': 'bbc-news', 'name': 'BBC News'}</td>\n",
              "      <td>BBC News</td>\n",
              "      <td>First hints coronavirus vaccine trains immune ...</td>\n",
              "      <td>Larger trials now needed to see if the vaccine...</td>\n",
              "      <td>http://www.bbc.co.uk/news/health-52677203</td>\n",
              "      <td>https://ichef.bbci.co.uk/news/1024/branded_new...</td>\n",
              "      <td>2020-05-18T15:05:10Z</td>\n",
              "      <td>Image copyrightGetty Images\\r\\nThe first hints...</td>\n",
              "    </tr>\n",
              "  </tbody>\n",
              "</table>\n",
              "</div>"
            ],
            "text/plain": [
              "                                   source  ...                                            content\n",
              "0  {'id': 'bbc-news', 'name': 'BBC News'}  ...  Image copyrightGetty ImagesImage caption\\r\\n T...\n",
              "1  {'id': 'bbc-news', 'name': 'BBC News'}  ...  Image copyrightGetty ImagesImage caption\\r\\n M...\n",
              "2  {'id': 'bbc-news', 'name': 'BBC News'}  ...  Image copyrightReutersImage caption\\r\\n The dr...\n",
              "3  {'id': 'bbc-news', 'name': 'BBC News'}  ...  US President Donald Trump has accused the Worl...\n",
              "4  {'id': 'bbc-news', 'name': 'BBC News'}  ...                                               None\n",
              "5  {'id': 'bbc-news', 'name': 'BBC News'}  ...  Image copyrightGetty ImagesImage caption\\r\\n S...\n",
              "6  {'id': 'bbc-news', 'name': 'BBC News'}  ...  Image copyrightGetty ImagesImage caption\\r\\n S...\n",
              "7  {'id': 'bbc-news', 'name': 'BBC News'}  ...  Image copyrightEPAImage caption\\r\\n Donald Tru...\n",
              "8  {'id': 'bbc-news', 'name': 'BBC News'}  ...  Image copyrightEPAImage caption\\r\\n The attack...\n",
              "9  {'id': 'bbc-news', 'name': 'BBC News'}  ...  Image copyrightGetty Images\\r\\nThe first hints...\n",
              "\n",
              "[10 rows x 8 columns]"
            ]
          },
          "metadata": {
            "tags": []
          },
          "execution_count": 18
        }
      ]
    },
    {
      "cell_type": "code",
      "metadata": {
        "id": "GXXTEuy8fuAn",
        "colab_type": "code",
        "colab": {}
      },
      "source": [
        "# Google Top 10 headlines"
      ],
      "execution_count": 0,
      "outputs": []
    },
    {
      "cell_type": "code",
      "metadata": {
        "id": "oPZnXK--fuAq",
        "colab_type": "code",
        "colab": {}
      },
      "source": [
        "url2 = ('http://newsapi.org/v2/top-headlines?sources=google-news&apiKey=b92f31e6a03f4cf8a1fb120e90ef5451')"
      ],
      "execution_count": 0,
      "outputs": []
    },
    {
      "cell_type": "code",
      "metadata": {
        "id": "fVAQN9FafuAt",
        "colab_type": "code",
        "colab": {}
      },
      "source": [
        "res = requests.get(url2,headers = headers)"
      ],
      "execution_count": 0,
      "outputs": []
    },
    {
      "cell_type": "code",
      "metadata": {
        "id": "L_DJAoUXfuAw",
        "colab_type": "code",
        "outputId": "72240aaf-15f1-466d-ea47-a4d766529972",
        "colab": {
          "base_uri": "https://localhost:8080/",
          "height": 35
        }
      },
      "source": [
        "res.status_code"
      ],
      "execution_count": 0,
      "outputs": [
        {
          "output_type": "execute_result",
          "data": {
            "text/plain": [
              "200"
            ]
          },
          "metadata": {
            "tags": []
          },
          "execution_count": 22
        }
      ]
    },
    {
      "cell_type": "code",
      "metadata": {
        "id": "TBAEgJv3fuAy",
        "colab_type": "code",
        "colab": {}
      },
      "source": [
        "googleheadline=res.json()\n",
        "sorted(googleheadline.keys())\n",
        "googleheadline = googleheadline['articles']"
      ],
      "execution_count": 0,
      "outputs": []
    },
    {
      "cell_type": "code",
      "metadata": {
        "id": "5AVRXlqZfuA0",
        "colab_type": "code",
        "outputId": "237e606c-d17f-4322-f766-2305d83b19ac",
        "colab": {
          "base_uri": "https://localhost:8080/",
          "height": 529
        }
      },
      "source": [
        "#convert to dataframe first\n",
        "df2 =  pd.DataFrame(googleheadline)\n",
        "df2"
      ],
      "execution_count": 0,
      "outputs": [
        {
          "output_type": "execute_result",
          "data": {
            "text/html": [
              "<div>\n",
              "<style scoped>\n",
              "    .dataframe tbody tr th:only-of-type {\n",
              "        vertical-align: middle;\n",
              "    }\n",
              "\n",
              "    .dataframe tbody tr th {\n",
              "        vertical-align: top;\n",
              "    }\n",
              "\n",
              "    .dataframe thead th {\n",
              "        text-align: right;\n",
              "    }\n",
              "</style>\n",
              "<table border=\"1\" class=\"dataframe\">\n",
              "  <thead>\n",
              "    <tr style=\"text-align: right;\">\n",
              "      <th></th>\n",
              "      <th>source</th>\n",
              "      <th>author</th>\n",
              "      <th>title</th>\n",
              "      <th>description</th>\n",
              "      <th>url</th>\n",
              "      <th>urlToImage</th>\n",
              "      <th>publishedAt</th>\n",
              "      <th>content</th>\n",
              "    </tr>\n",
              "  </thead>\n",
              "  <tbody>\n",
              "    <tr>\n",
              "      <th>0</th>\n",
              "      <td>{'id': 'google-news', 'name': 'Google News'}</td>\n",
              "      <td>Analysis by Oliver Darcy, CNN Business</td>\n",
              "      <td>Fox News can't get its message straight on hyd...</td>\n",
              "      <td>Throughout the late-afternoon and into the nig...</td>\n",
              "      <td>https://www.cnn.com/2020/05/19/media/fox-news-...</td>\n",
              "      <td>https://cdn.cnn.com/cnnnext/dam/assets/2005190...</td>\n",
              "      <td>2020-05-19T05:12:52+00:00</td>\n",
              "      <td>Throughout the late-afternoon and into the nig...</td>\n",
              "    </tr>\n",
              "    <tr>\n",
              "      <th>1</th>\n",
              "      <td>{'id': 'google-news', 'name': 'Google News'}</td>\n",
              "      <td>https://www.facebook.com/bbcnews</td>\n",
              "      <td>Trump gives WHO ultimatum over virus handling</td>\n",
              "      <td>The US president accuses the UN agency of havi...</td>\n",
              "      <td>https://www.bbc.com/news/world-us-canada-52718309</td>\n",
              "      <td>https://ichef.bbci.co.uk/news/1024/branded_new...</td>\n",
              "      <td>2020-05-19T04:58:07+00:00</td>\n",
              "      <td>Image copyrightGetty ImagesImage caption\\r\\n M...</td>\n",
              "    </tr>\n",
              "    <tr>\n",
              "      <th>2</th>\n",
              "      <td>{'id': 'google-news', 'name': 'Google News'}</td>\n",
              "      <td>Ed O'Keefe</td>\n",
              "      <td>Trump tells governors on reopening: \"We will s...</td>\n",
              "      <td>The president made the remarks in a teleconfer...</td>\n",
              "      <td>https://www.cbsnews.com/news/trump-tells-gover...</td>\n",
              "      <td>https://cbsnews3.cbsistatic.com/hub/i/r/2020/0...</td>\n",
              "      <td>2020-05-19T04:27:24+00:00</td>\n",
              "      <td>President Trump told the nation's governors Mo...</td>\n",
              "    </tr>\n",
              "    <tr>\n",
              "      <th>3</th>\n",
              "      <td>{'id': 'google-news', 'name': 'Google News'}</td>\n",
              "      <td>Hannah Knowles, Marisa Iati</td>\n",
              "      <td>An officer allegedly showed off explicit photo...</td>\n",
              "      <td>The officer, Miguel Deras, allegedly bragged t...</td>\n",
              "      <td>https://www.washingtonpost.com/education/2020/...</td>\n",
              "      <td>https://www.washingtonpost.com/wp-apps/imrs.ph...</td>\n",
              "      <td>2020-05-19T04:08:42+00:00</td>\n",
              "      <td>The officer, Miguel Deras, bragged about being...</td>\n",
              "    </tr>\n",
              "    <tr>\n",
              "      <th>4</th>\n",
              "      <td>{'id': 'google-news', 'name': 'Google News'}</td>\n",
              "      <td>Fiona Kelliher, Maggie Angst</td>\n",
              "      <td>Most counties may reopen in-store retail, hair...</td>\n",
              "      <td>Counties may have no greater than 5% increase ...</td>\n",
              "      <td>https://www.mercurynews.com/most-counties-may-...</td>\n",
              "      <td>https://www.mercurynews.com/wp-content/uploads...</td>\n",
              "      <td>2020-05-19T01:37:24+00:00</td>\n",
              "      <td>CLICK HERE if you’re having a problem viewing ...</td>\n",
              "    </tr>\n",
              "    <tr>\n",
              "      <th>5</th>\n",
              "      <td>{'id': 'google-news', 'name': 'Google News'}</td>\n",
              "      <td>Victor Garcia</td>\n",
              "      <td>Nunes claims 'dozens' of unmaskings of Trump a...</td>\n",
              "      <td>House Intelligence Committee ranking member De...</td>\n",
              "      <td>https://www.foxnews.com/media/devin-nunes-unma...</td>\n",
              "      <td>https://static.foxnews.com/foxnews.com/content...</td>\n",
              "      <td>2020-05-19T00:16:19+00:00</td>\n",
              "      <td>House Intelligence Committee ranking member De...</td>\n",
              "    </tr>\n",
              "    <tr>\n",
              "      <th>6</th>\n",
              "      <td>{'id': 'google-news', 'name': 'Google News'}</td>\n",
              "      <td>Aris Folley</td>\n",
              "      <td>Beachgoers flock to Virginia Beach oceanfront ...</td>\n",
              "      <td>Beachgoers crowded the Virginia Beach oceanfro...</td>\n",
              "      <td>https://thehill.com/homenews/state-watch/49839...</td>\n",
              "      <td>https://thehill.com/sites/default/files/northa...</td>\n",
              "      <td>2020-05-18T21:39:30+00:00</td>\n",
              "      <td>Beachgoers crowded the Virginia Beach oceanfro...</td>\n",
              "    </tr>\n",
              "    <tr>\n",
              "      <th>7</th>\n",
              "      <td>{'id': 'google-news', 'name': 'Google News'}</td>\n",
              "      <td>Carol Morello</td>\n",
              "      <td>Pompeo says he didn’t know fired inspector gen...</td>\n",
              "      <td>The secretary of state confirmed that he asked...</td>\n",
              "      <td>https://www.washingtonpost.com/national-securi...</td>\n",
              "      <td>https://www.washingtonpost.com/wp-apps/imrs.ph...</td>\n",
              "      <td>2020-05-18T21:09:48+00:00</td>\n",
              "      <td>I went to the president and made clear to him ...</td>\n",
              "    </tr>\n",
              "    <tr>\n",
              "      <th>8</th>\n",
              "      <td>{'id': 'google-news', 'name': 'Google News'}</td>\n",
              "      <td>Alaa Elassar, CNN</td>\n",
              "      <td>A man who wore a watermelon on his head while ...</td>\n",
              "      <td>A pair of melon heads -- yes, actual people wi...</td>\n",
              "      <td>https://www.cnn.com/2020/05/18/us/watermelon-h...</td>\n",
              "      <td>https://cdn.cnn.com/cnnnext/dam/assets/2005181...</td>\n",
              "      <td>2020-05-18T20:55:00+00:00</td>\n",
              "      <td>(CNN)A pair of melon heads -- yes, actual peop...</td>\n",
              "    </tr>\n",
              "    <tr>\n",
              "      <th>9</th>\n",
              "      <td>{'id': 'google-news', 'name': 'Google News'}</td>\n",
              "      <td>Jason Hall</td>\n",
              "      <td>Oil Stocks Are Surging on This News From China</td>\n",
              "      <td>Chinese oil demand is said to be closing in on...</td>\n",
              "      <td>https://www.fool.com/investing/2020/05/18/oil-...</td>\n",
              "      <td>https://g.foolcdn.com/editorial/images/574922/...</td>\n",
              "      <td>2020-05-18T19:13:00+00:00</td>\n",
              "      <td>What happened\\r\\nShares of independent oil pro...</td>\n",
              "    </tr>\n",
              "  </tbody>\n",
              "</table>\n",
              "</div>"
            ],
            "text/plain": [
              "                                         source  ...                                            content\n",
              "0  {'id': 'google-news', 'name': 'Google News'}  ...  Throughout the late-afternoon and into the nig...\n",
              "1  {'id': 'google-news', 'name': 'Google News'}  ...  Image copyrightGetty ImagesImage caption\\r\\n M...\n",
              "2  {'id': 'google-news', 'name': 'Google News'}  ...  President Trump told the nation's governors Mo...\n",
              "3  {'id': 'google-news', 'name': 'Google News'}  ...  The officer, Miguel Deras, bragged about being...\n",
              "4  {'id': 'google-news', 'name': 'Google News'}  ...  CLICK HERE if you’re having a problem viewing ...\n",
              "5  {'id': 'google-news', 'name': 'Google News'}  ...  House Intelligence Committee ranking member De...\n",
              "6  {'id': 'google-news', 'name': 'Google News'}  ...  Beachgoers crowded the Virginia Beach oceanfro...\n",
              "7  {'id': 'google-news', 'name': 'Google News'}  ...  I went to the president and made clear to him ...\n",
              "8  {'id': 'google-news', 'name': 'Google News'}  ...  (CNN)A pair of melon heads -- yes, actual peop...\n",
              "9  {'id': 'google-news', 'name': 'Google News'}  ...  What happened\\r\\nShares of independent oil pro...\n",
              "\n",
              "[10 rows x 8 columns]"
            ]
          },
          "metadata": {
            "tags": []
          },
          "execution_count": 24
        }
      ]
    },
    {
      "cell_type": "code",
      "metadata": {
        "id": "g-5GlN5SfuA3",
        "colab_type": "code",
        "colab": {}
      },
      "source": [
        "# Tech Crunch Top 10 Headlines"
      ],
      "execution_count": 0,
      "outputs": []
    },
    {
      "cell_type": "code",
      "metadata": {
        "id": "evrj7Nh3fuA5",
        "colab_type": "code",
        "colab": {}
      },
      "source": [
        "url4 = ('http://newsapi.org/v2/top-headlines?sources=techcrunch&apiKey=b92f31e6a03f4cf8a1fb120e90ef5451')"
      ],
      "execution_count": 0,
      "outputs": []
    },
    {
      "cell_type": "code",
      "metadata": {
        "id": "5fFawYw6fuA7",
        "colab_type": "code",
        "outputId": "6a9bd2f4-221a-4cb1-dfa4-53cdc2990973",
        "colab": {
          "base_uri": "https://localhost:8080/",
          "height": 35
        }
      },
      "source": [
        "res = requests.get(url4,headers = headers)\n",
        "res.status_code"
      ],
      "execution_count": 0,
      "outputs": [
        {
          "output_type": "execute_result",
          "data": {
            "text/plain": [
              "200"
            ]
          },
          "metadata": {
            "tags": []
          },
          "execution_count": 27
        }
      ]
    },
    {
      "cell_type": "code",
      "metadata": {
        "id": "qbjbZIiSfuA9",
        "colab_type": "code",
        "colab": {}
      },
      "source": [
        "techcrunchheadlines=res.json()\n",
        "sorted(techcrunchheadlines.keys())\n",
        "techcrunchheadlines = techcrunchheadlines['articles']"
      ],
      "execution_count": 0,
      "outputs": []
    },
    {
      "cell_type": "code",
      "metadata": {
        "id": "w0B6-0NWfuBA",
        "colab_type": "code",
        "outputId": "8496e271-c8ae-49ed-8d6c-7b1ce1b40b08",
        "colab": {
          "base_uri": "https://localhost:8080/",
          "height": 529
        }
      },
      "source": [
        "df3 =  pd.DataFrame(techcrunchheadlines)\n",
        "df3"
      ],
      "execution_count": 0,
      "outputs": [
        {
          "output_type": "execute_result",
          "data": {
            "text/html": [
              "<div>\n",
              "<style scoped>\n",
              "    .dataframe tbody tr th:only-of-type {\n",
              "        vertical-align: middle;\n",
              "    }\n",
              "\n",
              "    .dataframe tbody tr th {\n",
              "        vertical-align: top;\n",
              "    }\n",
              "\n",
              "    .dataframe thead th {\n",
              "        text-align: right;\n",
              "    }\n",
              "</style>\n",
              "<table border=\"1\" class=\"dataframe\">\n",
              "  <thead>\n",
              "    <tr style=\"text-align: right;\">\n",
              "      <th></th>\n",
              "      <th>source</th>\n",
              "      <th>author</th>\n",
              "      <th>title</th>\n",
              "      <th>description</th>\n",
              "      <th>url</th>\n",
              "      <th>urlToImage</th>\n",
              "      <th>publishedAt</th>\n",
              "      <th>content</th>\n",
              "    </tr>\n",
              "  </thead>\n",
              "  <tbody>\n",
              "    <tr>\n",
              "      <th>0</th>\n",
              "      <td>{'id': 'techcrunch', 'name': 'TechCrunch'}</td>\n",
              "      <td>Catherine Shu</td>\n",
              "      <td>SoftBank reportedly plans to sell about $20 bi...</td>\n",
              "      <td>SoftBank Group Corp. is currently seeking buye...</td>\n",
              "      <td>https://techcrunch.com/2020/05/18/softbank-rep...</td>\n",
              "      <td>https://techcrunch.com/wp-content/uploads/2020...</td>\n",
              "      <td>2020-05-19T05:57:31Z</td>\n",
              "      <td>SoftBank Group Corp. is currently seeking buye...</td>\n",
              "    </tr>\n",
              "    <tr>\n",
              "      <th>1</th>\n",
              "      <td>{'id': 'techcrunch', 'name': 'TechCrunch'}</td>\n",
              "      <td>Rita Liao</td>\n",
              "      <td>With 170M users, Bilibili is the nearest thing...</td>\n",
              "      <td>Bilibili, a Chinese video streaming website th...</td>\n",
              "      <td>https://techcrunch.com/2020/05/18/with-170m-us...</td>\n",
              "      <td>https://techcrunch.com/wp-content/uploads/2020...</td>\n",
              "      <td>2020-05-19T04:22:17Z</td>\n",
              "      <td>Bilibili, a Chinese video streaming website th...</td>\n",
              "    </tr>\n",
              "    <tr>\n",
              "      <th>2</th>\n",
              "      <td>{'id': 'techcrunch', 'name': 'TechCrunch'}</td>\n",
              "      <td>Brian Heater</td>\n",
              "      <td>36M Americans have filed for unemployment, but...</td>\n",
              "      <td>Last week, U.S. unemployment claims hit 36 mil...</td>\n",
              "      <td>https://techcrunch.com/2020/05/18/36m-american...</td>\n",
              "      <td>https://techcrunch.com/wp-content/uploads/2020...</td>\n",
              "      <td>2020-05-18T22:58:43Z</td>\n",
              "      <td>Last week, U.S. unemployment claims hit 36 mil...</td>\n",
              "    </tr>\n",
              "    <tr>\n",
              "      <th>3</th>\n",
              "      <td>{'id': 'techcrunch', 'name': 'TechCrunch'}</td>\n",
              "      <td>Eric Peckham</td>\n",
              "      <td>With stadiums closed, TV networks turn to live...</td>\n",
              "      <td>Two years from now, people will look back at 2...</td>\n",
              "      <td>https://techcrunch.com/2020/05/18/with-stadium...</td>\n",
              "      <td>https://techcrunch.com/wp-content/uploads/2020...</td>\n",
              "      <td>2020-05-18T21:13:15Z</td>\n",
              "      <td>The COVID-19 pandemic has wiped out the spring...</td>\n",
              "    </tr>\n",
              "    <tr>\n",
              "      <th>4</th>\n",
              "      <td>{'id': 'techcrunch', 'name': 'TechCrunch'}</td>\n",
              "      <td>Anthony Ha</td>\n",
              "      <td>Disney streaming exec Kevin Mayer becomes TikT...</td>\n",
              "      <td>Kevin Mayer, head of The Walt Disney Company’s...</td>\n",
              "      <td>https://techcrunch.com/2020/05/18/disney-kevin...</td>\n",
              "      <td>https://techcrunch.com/wp-content/uploads/2020...</td>\n",
              "      <td>2020-05-18T21:05:39Z</td>\n",
              "      <td>Kevin Mayer, head of The Walt Disney Company’s...</td>\n",
              "    </tr>\n",
              "    <tr>\n",
              "      <th>5</th>\n",
              "      <td>{'id': 'techcrunch', 'name': 'TechCrunch'}</td>\n",
              "      <td>Danny Crichton, Arman Tabatabai</td>\n",
              "      <td>Arm’s financials and the blurring future of th...</td>\n",
              "      <td>Amidst the blitz of SoftBank earnings news tod...</td>\n",
              "      <td>https://techcrunch.com/2020/05/18/arms-financi...</td>\n",
              "      <td>https://techcrunch.com/wp-content/uploads/2020...</td>\n",
              "      <td>2020-05-18T20:51:10Z</td>\n",
              "      <td>Amidst the blitz of SoftBank earnings news tod...</td>\n",
              "    </tr>\n",
              "    <tr>\n",
              "      <th>6</th>\n",
              "      <td>{'id': 'techcrunch', 'name': 'TechCrunch'}</td>\n",
              "      <td>Brian Heater</td>\n",
              "      <td>Google is piloting a simpler Nest Hub Max inte...</td>\n",
              "      <td>Last week, Mount Sinai showcased how it’s star...</td>\n",
              "      <td>https://techcrunch.com/2020/05/18/google-is-pi...</td>\n",
              "      <td>https://techcrunch.com/wp-content/uploads/2020...</td>\n",
              "      <td>2020-05-18T19:54:19Z</td>\n",
              "      <td>Last week, Mount Sinai showcased how its start...</td>\n",
              "    </tr>\n",
              "    <tr>\n",
              "      <th>7</th>\n",
              "      <td>{'id': 'techcrunch', 'name': 'TechCrunch'}</td>\n",
              "      <td>Ron Miller</td>\n",
              "      <td>Verizon wraps up BlueJeans acquisition lickety...</td>\n",
              "      <td>When Verizon (which owns this publication) ann...</td>\n",
              "      <td>https://techcrunch.com/2020/05/18/verizon-wrap...</td>\n",
              "      <td>https://techcrunch.com/wp-content/uploads/2020...</td>\n",
              "      <td>2020-05-18T19:50:28Z</td>\n",
              "      <td>When Verizon (which owns this publication) ann...</td>\n",
              "    </tr>\n",
              "    <tr>\n",
              "      <th>8</th>\n",
              "      <td>{'id': 'techcrunch', 'name': 'TechCrunch'}</td>\n",
              "      <td>Alex Wilhelm</td>\n",
              "      <td>What SoftBank's Vision Fund results tell us ab...</td>\n",
              "      <td>A famous investor published notes today concer...</td>\n",
              "      <td>https://techcrunch.com/2020/05/18/what-softban...</td>\n",
              "      <td>https://techcrunch.com/wp-content/themes/techc...</td>\n",
              "      <td>2020-05-18T18:26:13Z</td>\n",
              "      <td>A famous investor published notes today concer...</td>\n",
              "    </tr>\n",
              "    <tr>\n",
              "      <th>9</th>\n",
              "      <td>{'id': 'techcrunch', 'name': 'TechCrunch'}</td>\n",
              "      <td>Danny Crichton</td>\n",
              "      <td>As Jack Ma and SoftBank part ways, the open an...</td>\n",
              "      <td>It would be one of the greatest startup invest...</td>\n",
              "      <td>https://techcrunch.com/2020/05/18/as-jack-ma-a...</td>\n",
              "      <td>https://techcrunch.com/wp-content/uploads/2020...</td>\n",
              "      <td>2020-05-18T16:39:30Z</td>\n",
              "      <td>It would be one of the greatest startup invest...</td>\n",
              "    </tr>\n",
              "  </tbody>\n",
              "</table>\n",
              "</div>"
            ],
            "text/plain": [
              "                                       source  ...                                            content\n",
              "0  {'id': 'techcrunch', 'name': 'TechCrunch'}  ...  SoftBank Group Corp. is currently seeking buye...\n",
              "1  {'id': 'techcrunch', 'name': 'TechCrunch'}  ...  Bilibili, a Chinese video streaming website th...\n",
              "2  {'id': 'techcrunch', 'name': 'TechCrunch'}  ...  Last week, U.S. unemployment claims hit 36 mil...\n",
              "3  {'id': 'techcrunch', 'name': 'TechCrunch'}  ...  The COVID-19 pandemic has wiped out the spring...\n",
              "4  {'id': 'techcrunch', 'name': 'TechCrunch'}  ...  Kevin Mayer, head of The Walt Disney Company’s...\n",
              "5  {'id': 'techcrunch', 'name': 'TechCrunch'}  ...  Amidst the blitz of SoftBank earnings news tod...\n",
              "6  {'id': 'techcrunch', 'name': 'TechCrunch'}  ...  Last week, Mount Sinai showcased how its start...\n",
              "7  {'id': 'techcrunch', 'name': 'TechCrunch'}  ...  When Verizon (which owns this publication) ann...\n",
              "8  {'id': 'techcrunch', 'name': 'TechCrunch'}  ...  A famous investor published notes today concer...\n",
              "9  {'id': 'techcrunch', 'name': 'TechCrunch'}  ...  It would be one of the greatest startup invest...\n",
              "\n",
              "[10 rows x 8 columns]"
            ]
          },
          "metadata": {
            "tags": []
          },
          "execution_count": 29
        }
      ]
    },
    {
      "cell_type": "code",
      "metadata": {
        "id": "a-HV_rORfuBC",
        "colab_type": "code",
        "colab": {}
      },
      "source": [
        "# Trump Top 20 headlines"
      ],
      "execution_count": 0,
      "outputs": []
    },
    {
      "cell_type": "code",
      "metadata": {
        "id": "F0fJRZ2tfuBH",
        "colab_type": "code",
        "colab": {}
      },
      "source": [
        "url5 = ('http://newsapi.org/v2/top-headlines?q=trump&apiKey=b92f31e6a03f4cf8a1fb120e90ef5451')"
      ],
      "execution_count": 0,
      "outputs": []
    },
    {
      "cell_type": "code",
      "metadata": {
        "id": "FQfyi2yGfuBK",
        "colab_type": "code",
        "colab": {}
      },
      "source": [
        "res = requests.get(url5,headers = headers)"
      ],
      "execution_count": 0,
      "outputs": []
    },
    {
      "cell_type": "code",
      "metadata": {
        "id": "dpJiNR6RfuBM",
        "colab_type": "code",
        "outputId": "7c3a8940-0a26-4587-f0a5-f85e45b5d9f2",
        "colab": {
          "base_uri": "https://localhost:8080/",
          "height": 35
        }
      },
      "source": [
        "res.status_code"
      ],
      "execution_count": 0,
      "outputs": [
        {
          "output_type": "execute_result",
          "data": {
            "text/plain": [
              "200"
            ]
          },
          "metadata": {
            "tags": []
          },
          "execution_count": 33
        }
      ]
    },
    {
      "cell_type": "code",
      "metadata": {
        "id": "8dyOl5fhfuBP",
        "colab_type": "code",
        "colab": {}
      },
      "source": [
        "trumpheadlines=res.json()\n",
        "sorted(trumpheadlines.keys())\n",
        "trumpheadlines = trumpheadlines['articles']"
      ],
      "execution_count": 0,
      "outputs": []
    },
    {
      "cell_type": "code",
      "metadata": {
        "id": "_36zlBmLfuBR",
        "colab_type": "code",
        "outputId": "9b18fef0-0b6e-47f7-fdce-6f9e2d228925",
        "colab": {
          "base_uri": "https://localhost:8080/",
          "height": 1000
        }
      },
      "source": [
        "df4 =  pd.DataFrame(trumpheadlines)\n",
        "df4"
      ],
      "execution_count": 0,
      "outputs": [
        {
          "output_type": "execute_result",
          "data": {
            "text/html": [
              "<div>\n",
              "<style scoped>\n",
              "    .dataframe tbody tr th:only-of-type {\n",
              "        vertical-align: middle;\n",
              "    }\n",
              "\n",
              "    .dataframe tbody tr th {\n",
              "        vertical-align: top;\n",
              "    }\n",
              "\n",
              "    .dataframe thead th {\n",
              "        text-align: right;\n",
              "    }\n",
              "</style>\n",
              "<table border=\"1\" class=\"dataframe\">\n",
              "  <thead>\n",
              "    <tr style=\"text-align: right;\">\n",
              "      <th></th>\n",
              "      <th>source</th>\n",
              "      <th>author</th>\n",
              "      <th>title</th>\n",
              "      <th>description</th>\n",
              "      <th>url</th>\n",
              "      <th>urlToImage</th>\n",
              "      <th>publishedAt</th>\n",
              "      <th>content</th>\n",
              "    </tr>\n",
              "  </thead>\n",
              "  <tbody>\n",
              "    <tr>\n",
              "      <th>0</th>\n",
              "      <td>{'id': 'the-irish-times', 'name': 'The Irish T...</td>\n",
              "      <td>The Irish Times</td>\n",
              "      <td>WHO to investigate own response to coronavirus...</td>\n",
              "      <td>Donald Trump claims organisation did a ‘very s...</td>\n",
              "      <td>https://www.irishtimes.com/\\t\\t\\t\\t\\t\\t\\t/news...</td>\n",
              "      <td>https://www.irishtimes.com/image-creator/?id=1...</td>\n",
              "      <td>2020-05-19T06:55:56Z</td>\n",
              "      <td>The World Health Organisation (WHO) has bowed ...</td>\n",
              "    </tr>\n",
              "    <tr>\n",
              "      <th>1</th>\n",
              "      <td>{'id': 'google-news-ca', 'name': 'Google News ...</td>\n",
              "      <td>Kate Mayberry</td>\n",
              "      <td>Trump issues WHO ultimatum over coronavirus: L...</td>\n",
              "      <td>Trump gives WHO director-general 30 days to ma...</td>\n",
              "      <td>https://www.aljazeera.com/news/2020/05/trump-a...</td>\n",
              "      <td>https://www.aljazeera.com/mritems/Images/2020/...</td>\n",
              "      <td>2020-05-19T06:47:26+00:00</td>\n",
              "      <td>&lt;ul&gt;&lt;li&gt;US President Donald Trump has threaten...</td>\n",
              "    </tr>\n",
              "    <tr>\n",
              "      <th>2</th>\n",
              "      <td>{'id': 'usa-today', 'name': 'USA Today'}</td>\n",
              "      <td>None</td>\n",
              "      <td>Trump threatens to permanently cut WHO funding...</td>\n",
              "      <td>Trump's threat, made in a letter to WHO Direct...</td>\n",
              "      <td>https://www.usatoday.com/story/news/world/2020...</td>\n",
              "      <td>https://www.gannett-cdn.com/presto/2020/05/19/...</td>\n",
              "      <td>2020-05-19T06:45:22+00:00</td>\n",
              "      <td>President Donald Trump said Monday he is takin...</td>\n",
              "    </tr>\n",
              "    <tr>\n",
              "      <th>3</th>\n",
              "      <td>{'id': 'financial-times', 'name': 'Financial T...</td>\n",
              "      <td>None</td>\n",
              "      <td>Trump says he is taking hydroxychloroquine to ...</td>\n",
              "      <td>US president dismisses concerns about antimala...</td>\n",
              "      <td>https://www.ft.com/content/971ae825-b6d3-4ff5-...</td>\n",
              "      <td>https://www.ft.com/__origami/service/image/v2/...</td>\n",
              "      <td>2020-05-19T06:37:19.7060959Z</td>\n",
              "      <td>Donald Trump has been taking hydroxychloroquin...</td>\n",
              "    </tr>\n",
              "    <tr>\n",
              "      <th>4</th>\n",
              "      <td>{'id': 'australian-financial-review', 'name': ...</td>\n",
              "      <td>Phillip Coorey</td>\n",
              "      <td>Is Trump behind China's trade war with Australia?</td>\n",
              "      <td>While Australia's relationship with China goes...</td>\n",
              "      <td>http://www.afr.com/politics/federal/is-trump-b...</td>\n",
              "      <td>https://static.ffx.io/images/$zoom_0.3448%2C$m...</td>\n",
              "      <td>2020-05-19T05:56:33Z</td>\n",
              "      <td>Last week, after Beijing had issued its draft ...</td>\n",
              "    </tr>\n",
              "    <tr>\n",
              "      <th>5</th>\n",
              "      <td>{'id': 'google-news-au', 'name': 'Google News ...</td>\n",
              "      <td>Eryk Bagshaw</td>\n",
              "      <td>Trump threatens to cut off WHO funding permane...</td>\n",
              "      <td>In a fiery letter to Director General Tedros A...</td>\n",
              "      <td>https://www.smh.com.au/world/north-america/tru...</td>\n",
              "      <td>https://static.ffx.io/images/$zoom_0.1765%2C$m...</td>\n",
              "      <td>2020-05-19T05:47:22+00:00</td>\n",
              "      <td>Washington: President Donald Trump escalated h...</td>\n",
              "    </tr>\n",
              "    <tr>\n",
              "      <th>6</th>\n",
              "      <td>{'id': 'google-news-in', 'name': 'Google News ...</td>\n",
              "      <td>AP</td>\n",
              "      <td>Trump says he's taking malaria drug in case he...</td>\n",
              "      <td>US News: President Donald Trump said Monday th...</td>\n",
              "      <td>https://timesofindia.indiatimes.com/world/us/t...</td>\n",
              "      <td>https://static.toiimg.com/thumb/msid-75816005,...</td>\n",
              "      <td>2020-05-19T05:31:17+00:00</td>\n",
              "      <td>US News: President Donald Trump said Monday th...</td>\n",
              "    </tr>\n",
              "    <tr>\n",
              "      <th>7</th>\n",
              "      <td>{'id': 'news24', 'name': 'News24'}</td>\n",
              "      <td>None</td>\n",
              "      <td>Trump threatens permanent freeze on WHO fundin...</td>\n",
              "      <td>US President Donald Trump has threatened to pe...</td>\n",
              "      <td>https://www.news24.com/World/News/trump-threat...</td>\n",
              "      <td>http://cdn.24.co.za/files/Cms/General/d/10164/...</td>\n",
              "      <td>2020-05-19T05:25:47+00:00</td>\n",
              "      <td>US President Donald Trump threatened to perman...</td>\n",
              "    </tr>\n",
              "    <tr>\n",
              "      <th>8</th>\n",
              "      <td>{'id': 'el-mundo', 'name': 'El Mundo'}</td>\n",
              "      <td>None</td>\n",
              "      <td>Coronavirus España hoy, noticias de última hor...</td>\n",
              "      <td>Arranca la semana en que Pedro Sánchez tratará...</td>\n",
              "      <td>https://www.elmundo.es/ciencia-y-salud/ciencia...</td>\n",
              "      <td>https://i.ytimg.com/vi/_t9DvH1YEMk/maxresdefau...</td>\n",
              "      <td>2020-05-19T05:25:13Z</td>\n",
              "      <td>Arranca la semana en que Pedro Sánchez tratará...</td>\n",
              "    </tr>\n",
              "    <tr>\n",
              "      <th>9</th>\n",
              "      <td>{'id': 'google-news-ca', 'name': 'Google News ...</td>\n",
              "      <td>Sean Boynton</td>\n",
              "      <td>Trump tells WHO he’ll make funding freeze perm...</td>\n",
              "      <td>In a letter to the WHO's leader, Trump also sa...</td>\n",
              "      <td>http://globalnews.ca/news/6957773/trump-who-fu...</td>\n",
              "      <td>https://shawglobalnews.files.wordpress.com/202...</td>\n",
              "      <td>2020-05-19T05:24:08+00:00</td>\n",
              "      <td>U.S. President Donald Trump told the World Hea...</td>\n",
              "    </tr>\n",
              "    <tr>\n",
              "      <th>10</th>\n",
              "      <td>{'id': 'google-news', 'name': 'Google News'}</td>\n",
              "      <td>Analysis by Oliver Darcy, CNN Business</td>\n",
              "      <td>Fox News can't get its message straight on hyd...</td>\n",
              "      <td>Throughout the late-afternoon and into the nig...</td>\n",
              "      <td>https://www.cnn.com/2020/05/19/media/fox-news-...</td>\n",
              "      <td>https://cdn.cnn.com/cnnnext/dam/assets/2005190...</td>\n",
              "      <td>2020-05-19T05:12:52+00:00</td>\n",
              "      <td>Throughout the late-afternoon and into the nig...</td>\n",
              "    </tr>\n",
              "    <tr>\n",
              "      <th>11</th>\n",
              "      <td>{'id': 'nbc-news', 'name': 'NBC News'}</td>\n",
              "      <td>Didi Martinez, Brenda Breslauer, Kristen Welker</td>\n",
              "      <td>Trump admin taps startup to build nation's fir...</td>\n",
              "      <td>The Trump administration has signed a $354 mil...</td>\n",
              "      <td>https://www.nbcnews.com/news/us-news/trump-adm...</td>\n",
              "      <td>https://media2.s-nbcnews.com/j/newscms/2020_21...</td>\n",
              "      <td>2020-05-19T05:01:00Z</td>\n",
              "      <td>Seeking to secure the nation's supply of criti...</td>\n",
              "    </tr>\n",
              "    <tr>\n",
              "      <th>12</th>\n",
              "      <td>{'id': 'wirtschafts-woche', 'name': 'Wirtschaf...</td>\n",
              "      <td>Wirtschaftswoche</td>\n",
              "      <td>Hydroxychloroquin: US-Präsident Trump nimmt Ma...</td>\n",
              "      <td>Bislang gibt es keine wissenschaftlichen Beleg...</td>\n",
              "      <td>https://www.wiwo.de/politik/ausland/hydroxychl...</td>\n",
              "      <td>https://www.wiwo.de/images/donald-trump/258420...</td>\n",
              "      <td>2020-05-19T04:59:00+00:00</td>\n",
              "      <td>US-Präsident Donald Trump nimmt nach eigenen A...</td>\n",
              "    </tr>\n",
              "    <tr>\n",
              "      <th>13</th>\n",
              "      <td>{'id': 'news24', 'name': 'News24'}</td>\n",
              "      <td>None</td>\n",
              "      <td>Battleground social media: How disinformation,...</td>\n",
              "      <td>From Putin, Trump and Zuma directly to your sc...</td>\n",
              "      <td>https://www.news24.com/Analysis/battleground-s...</td>\n",
              "      <td>http://cdn.24.co.za/files/Cms/General/d/9277/f...</td>\n",
              "      <td>2020-05-19T04:58:23+00:00</td>\n",
              "      <td>To live in the 21st century is to be manipulat...</td>\n",
              "    </tr>\n",
              "    <tr>\n",
              "      <th>14</th>\n",
              "      <td>{'id': 'google-news', 'name': 'Google News'}</td>\n",
              "      <td>https://www.facebook.com/bbcnews</td>\n",
              "      <td>Trump gives WHO ultimatum over virus handling</td>\n",
              "      <td>The US president accuses the UN agency of havi...</td>\n",
              "      <td>https://www.bbc.com/news/world-us-canada-52718309</td>\n",
              "      <td>https://ichef.bbci.co.uk/news/1024/branded_new...</td>\n",
              "      <td>2020-05-19T04:58:07+00:00</td>\n",
              "      <td>Image copyrightGetty ImagesImage caption\\r\\n M...</td>\n",
              "    </tr>\n",
              "    <tr>\n",
              "      <th>15</th>\n",
              "      <td>{'id': 'bbc-news', 'name': 'BBC News'}</td>\n",
              "      <td>BBC News</td>\n",
              "      <td>Trump gives WHO ultimatum over virus handling</td>\n",
              "      <td>The US president accuses the UN agency of havi...</td>\n",
              "      <td>http://www.bbc.co.uk/news/world-us-canada-5271...</td>\n",
              "      <td>https://ichef.bbci.co.uk/news/1024/branded_new...</td>\n",
              "      <td>2020-05-19T04:56:47Z</td>\n",
              "      <td>Image copyrightGetty ImagesImage caption\\r\\n M...</td>\n",
              "    </tr>\n",
              "    <tr>\n",
              "      <th>16</th>\n",
              "      <td>{'id': 'cnn-es', 'name': 'CNN Spanish'}</td>\n",
              "      <td>CNN</td>\n",
              "      <td>Trump amenaza con retirar permanentemente los ...</td>\n",
              "      <td>En una carta enviada al director general de la...</td>\n",
              "      <td>https://cnnespanol.cnn.com/2020/05/19/trump-am...</td>\n",
              "      <td>https://cnnespanol2.files.wordpress.com/2020/0...</td>\n",
              "      <td>2020-05-19T04:55:39Z</td>\n",
              "      <td>¿Son válidas las críticas a la OMS? 3:02\\r\\n(C...</td>\n",
              "    </tr>\n",
              "    <tr>\n",
              "      <th>17</th>\n",
              "      <td>{'id': 'aftenposten', 'name': 'Aftenposten'}</td>\n",
              "      <td>Ingeborg Moe, Tor Arne Andreassen</td>\n",
              "      <td>Langer ut mot WHO, skryter av Gro Harlem Brund...</td>\n",
              "      <td>USAs president Donald Trump truer med å melde ...</td>\n",
              "      <td>https://www.aftenposten.no/verden/i/0n12kJ/Lan...</td>\n",
              "      <td>https://premium.vgc.no/ap/images/6f857c1b-e521...</td>\n",
              "      <td>2020-05-19T04:46:28Z</td>\n",
              "      <td>smp-stories-top-widget\\r\\nI et brev til sjefen...</td>\n",
              "    </tr>\n",
              "    <tr>\n",
              "      <th>18</th>\n",
              "      <td>{'id': 'reuters', 'name': 'Reuters'}</td>\n",
              "      <td>Reuters Editorial</td>\n",
              "      <td>Trump threatens permanent freeze of WHO fundin...</td>\n",
              "      <td>U.S. President Donald Trump threatened on Mond...</td>\n",
              "      <td>http://feeds.reuters.com/~r/reuters/topNews/~3...</td>\n",
              "      <td>https://s3.reutersmedia.net/resources/r/?m=02&amp;...</td>\n",
              "      <td>2020-05-19T04:42:54Z</td>\n",
              "      <td>(Reuters) - U.S. President Donald Trump threat...</td>\n",
              "    </tr>\n",
              "    <tr>\n",
              "      <th>19</th>\n",
              "      <td>{'id': 'aftenposten', 'name': 'Aftenposten'}</td>\n",
              "      <td>NTB-AP-AFP</td>\n",
              "      <td>Trump tar malariamedisin for å unngå å bli kor...</td>\n",
              "      <td>President Donald Trump sier han tar malariamed...</td>\n",
              "      <td>https://www.aftenposten.no/verden/i/opq0BK/Tru...</td>\n",
              "      <td>https://premium.vgc.no/ap/images/ec69129a-b332...</td>\n",
              "      <td>2020-05-19T04:37:29Z</td>\n",
              "      <td>smp-stories-top-widget\\r\\nTrump sier han har t...</td>\n",
              "    </tr>\n",
              "  </tbody>\n",
              "</table>\n",
              "</div>"
            ],
            "text/plain": [
              "                                               source  ...                                            content\n",
              "0   {'id': 'the-irish-times', 'name': 'The Irish T...  ...  The World Health Organisation (WHO) has bowed ...\n",
              "1   {'id': 'google-news-ca', 'name': 'Google News ...  ...  <ul><li>US President Donald Trump has threaten...\n",
              "2            {'id': 'usa-today', 'name': 'USA Today'}  ...  President Donald Trump said Monday he is takin...\n",
              "3   {'id': 'financial-times', 'name': 'Financial T...  ...  Donald Trump has been taking hydroxychloroquin...\n",
              "4   {'id': 'australian-financial-review', 'name': ...  ...  Last week, after Beijing had issued its draft ...\n",
              "5   {'id': 'google-news-au', 'name': 'Google News ...  ...  Washington: President Donald Trump escalated h...\n",
              "6   {'id': 'google-news-in', 'name': 'Google News ...  ...  US News: President Donald Trump said Monday th...\n",
              "7                  {'id': 'news24', 'name': 'News24'}  ...  US President Donald Trump threatened to perman...\n",
              "8              {'id': 'el-mundo', 'name': 'El Mundo'}  ...  Arranca la semana en que Pedro Sánchez tratará...\n",
              "9   {'id': 'google-news-ca', 'name': 'Google News ...  ...  U.S. President Donald Trump told the World Hea...\n",
              "10       {'id': 'google-news', 'name': 'Google News'}  ...  Throughout the late-afternoon and into the nig...\n",
              "11             {'id': 'nbc-news', 'name': 'NBC News'}  ...  Seeking to secure the nation's supply of criti...\n",
              "12  {'id': 'wirtschafts-woche', 'name': 'Wirtschaf...  ...  US-Präsident Donald Trump nimmt nach eigenen A...\n",
              "13                 {'id': 'news24', 'name': 'News24'}  ...  To live in the 21st century is to be manipulat...\n",
              "14       {'id': 'google-news', 'name': 'Google News'}  ...  Image copyrightGetty ImagesImage caption\\r\\n M...\n",
              "15             {'id': 'bbc-news', 'name': 'BBC News'}  ...  Image copyrightGetty ImagesImage caption\\r\\n M...\n",
              "16            {'id': 'cnn-es', 'name': 'CNN Spanish'}  ...  ¿Son válidas las críticas a la OMS? 3:02\\r\\n(C...\n",
              "17       {'id': 'aftenposten', 'name': 'Aftenposten'}  ...  smp-stories-top-widget\\r\\nI et brev til sjefen...\n",
              "18               {'id': 'reuters', 'name': 'Reuters'}  ...  (Reuters) - U.S. President Donald Trump threat...\n",
              "19       {'id': 'aftenposten', 'name': 'Aftenposten'}  ...  smp-stories-top-widget\\r\\nTrump sier han har t...\n",
              "\n",
              "[20 rows x 8 columns]"
            ]
          },
          "metadata": {
            "tags": []
          },
          "execution_count": 35
        }
      ]
    },
    {
      "cell_type": "code",
      "metadata": {
        "id": "LnBuB6qcfuBU",
        "colab_type": "code",
        "colab": {}
      },
      "source": [
        "# UK HEADLINE 20 headlines"
      ],
      "execution_count": 0,
      "outputs": []
    },
    {
      "cell_type": "code",
      "metadata": {
        "id": "H9l2SZmafuBW",
        "colab_type": "code",
        "colab": {}
      },
      "source": [
        "url6 = ('http://newsapi.org/v2/top-headlines?country=gb&apiKey=4ac92a95346643fdbdb26a7e4d0e98b1')"
      ],
      "execution_count": 0,
      "outputs": []
    },
    {
      "cell_type": "code",
      "metadata": {
        "id": "XozL1-dcfuBY",
        "colab_type": "code",
        "outputId": "d174bb50-5760-4f18-b35b-e0d16aa0883a",
        "colab": {
          "base_uri": "https://localhost:8080/",
          "height": 35
        }
      },
      "source": [
        "res = requests.get(url6,headers = headers)\n",
        "res.status_code"
      ],
      "execution_count": 0,
      "outputs": [
        {
          "output_type": "execute_result",
          "data": {
            "text/plain": [
              "200"
            ]
          },
          "metadata": {
            "tags": []
          },
          "execution_count": 38
        }
      ]
    },
    {
      "cell_type": "code",
      "metadata": {
        "id": "OcAYIWUMfuBb",
        "colab_type": "code",
        "colab": {}
      },
      "source": [
        "ukheadlines=res.json()\n",
        "sorted(ukheadlines.keys())\n",
        "ukheadlines = ukheadlines['articles']"
      ],
      "execution_count": 0,
      "outputs": []
    },
    {
      "cell_type": "code",
      "metadata": {
        "id": "MDkySmbafuBe",
        "colab_type": "code",
        "outputId": "ca7d2123-5e38-4d31-ddcf-abf9301bccd5",
        "colab": {
          "base_uri": "https://localhost:8080/",
          "height": 1000
        }
      },
      "source": [
        "df5 =  pd.DataFrame(trumpheadlines)\n",
        "df5"
      ],
      "execution_count": 0,
      "outputs": [
        {
          "output_type": "execute_result",
          "data": {
            "text/html": [
              "<div>\n",
              "<style scoped>\n",
              "    .dataframe tbody tr th:only-of-type {\n",
              "        vertical-align: middle;\n",
              "    }\n",
              "\n",
              "    .dataframe tbody tr th {\n",
              "        vertical-align: top;\n",
              "    }\n",
              "\n",
              "    .dataframe thead th {\n",
              "        text-align: right;\n",
              "    }\n",
              "</style>\n",
              "<table border=\"1\" class=\"dataframe\">\n",
              "  <thead>\n",
              "    <tr style=\"text-align: right;\">\n",
              "      <th></th>\n",
              "      <th>source</th>\n",
              "      <th>author</th>\n",
              "      <th>title</th>\n",
              "      <th>description</th>\n",
              "      <th>url</th>\n",
              "      <th>urlToImage</th>\n",
              "      <th>publishedAt</th>\n",
              "      <th>content</th>\n",
              "    </tr>\n",
              "  </thead>\n",
              "  <tbody>\n",
              "    <tr>\n",
              "      <th>0</th>\n",
              "      <td>{'id': 'the-irish-times', 'name': 'The Irish T...</td>\n",
              "      <td>The Irish Times</td>\n",
              "      <td>WHO to investigate own response to coronavirus...</td>\n",
              "      <td>Donald Trump claims organisation did a ‘very s...</td>\n",
              "      <td>https://www.irishtimes.com/\\t\\t\\t\\t\\t\\t\\t/news...</td>\n",
              "      <td>https://www.irishtimes.com/image-creator/?id=1...</td>\n",
              "      <td>2020-05-19T06:55:56Z</td>\n",
              "      <td>The World Health Organisation (WHO) has bowed ...</td>\n",
              "    </tr>\n",
              "    <tr>\n",
              "      <th>1</th>\n",
              "      <td>{'id': 'google-news-ca', 'name': 'Google News ...</td>\n",
              "      <td>Kate Mayberry</td>\n",
              "      <td>Trump issues WHO ultimatum over coronavirus: L...</td>\n",
              "      <td>Trump gives WHO director-general 30 days to ma...</td>\n",
              "      <td>https://www.aljazeera.com/news/2020/05/trump-a...</td>\n",
              "      <td>https://www.aljazeera.com/mritems/Images/2020/...</td>\n",
              "      <td>2020-05-19T06:47:26+00:00</td>\n",
              "      <td>&lt;ul&gt;&lt;li&gt;US President Donald Trump has threaten...</td>\n",
              "    </tr>\n",
              "    <tr>\n",
              "      <th>2</th>\n",
              "      <td>{'id': 'usa-today', 'name': 'USA Today'}</td>\n",
              "      <td>None</td>\n",
              "      <td>Trump threatens to permanently cut WHO funding...</td>\n",
              "      <td>Trump's threat, made in a letter to WHO Direct...</td>\n",
              "      <td>https://www.usatoday.com/story/news/world/2020...</td>\n",
              "      <td>https://www.gannett-cdn.com/presto/2020/05/19/...</td>\n",
              "      <td>2020-05-19T06:45:22+00:00</td>\n",
              "      <td>President Donald Trump said Monday he is takin...</td>\n",
              "    </tr>\n",
              "    <tr>\n",
              "      <th>3</th>\n",
              "      <td>{'id': 'financial-times', 'name': 'Financial T...</td>\n",
              "      <td>None</td>\n",
              "      <td>Trump says he is taking hydroxychloroquine to ...</td>\n",
              "      <td>US president dismisses concerns about antimala...</td>\n",
              "      <td>https://www.ft.com/content/971ae825-b6d3-4ff5-...</td>\n",
              "      <td>https://www.ft.com/__origami/service/image/v2/...</td>\n",
              "      <td>2020-05-19T06:37:19.7060959Z</td>\n",
              "      <td>Donald Trump has been taking hydroxychloroquin...</td>\n",
              "    </tr>\n",
              "    <tr>\n",
              "      <th>4</th>\n",
              "      <td>{'id': 'australian-financial-review', 'name': ...</td>\n",
              "      <td>Phillip Coorey</td>\n",
              "      <td>Is Trump behind China's trade war with Australia?</td>\n",
              "      <td>While Australia's relationship with China goes...</td>\n",
              "      <td>http://www.afr.com/politics/federal/is-trump-b...</td>\n",
              "      <td>https://static.ffx.io/images/$zoom_0.3448%2C$m...</td>\n",
              "      <td>2020-05-19T05:56:33Z</td>\n",
              "      <td>Last week, after Beijing had issued its draft ...</td>\n",
              "    </tr>\n",
              "    <tr>\n",
              "      <th>5</th>\n",
              "      <td>{'id': 'google-news-au', 'name': 'Google News ...</td>\n",
              "      <td>Eryk Bagshaw</td>\n",
              "      <td>Trump threatens to cut off WHO funding permane...</td>\n",
              "      <td>In a fiery letter to Director General Tedros A...</td>\n",
              "      <td>https://www.smh.com.au/world/north-america/tru...</td>\n",
              "      <td>https://static.ffx.io/images/$zoom_0.1765%2C$m...</td>\n",
              "      <td>2020-05-19T05:47:22+00:00</td>\n",
              "      <td>Washington: President Donald Trump escalated h...</td>\n",
              "    </tr>\n",
              "    <tr>\n",
              "      <th>6</th>\n",
              "      <td>{'id': 'google-news-in', 'name': 'Google News ...</td>\n",
              "      <td>AP</td>\n",
              "      <td>Trump says he's taking malaria drug in case he...</td>\n",
              "      <td>US News: President Donald Trump said Monday th...</td>\n",
              "      <td>https://timesofindia.indiatimes.com/world/us/t...</td>\n",
              "      <td>https://static.toiimg.com/thumb/msid-75816005,...</td>\n",
              "      <td>2020-05-19T05:31:17+00:00</td>\n",
              "      <td>US News: President Donald Trump said Monday th...</td>\n",
              "    </tr>\n",
              "    <tr>\n",
              "      <th>7</th>\n",
              "      <td>{'id': 'news24', 'name': 'News24'}</td>\n",
              "      <td>None</td>\n",
              "      <td>Trump threatens permanent freeze on WHO fundin...</td>\n",
              "      <td>US President Donald Trump has threatened to pe...</td>\n",
              "      <td>https://www.news24.com/World/News/trump-threat...</td>\n",
              "      <td>http://cdn.24.co.za/files/Cms/General/d/10164/...</td>\n",
              "      <td>2020-05-19T05:25:47+00:00</td>\n",
              "      <td>US President Donald Trump threatened to perman...</td>\n",
              "    </tr>\n",
              "    <tr>\n",
              "      <th>8</th>\n",
              "      <td>{'id': 'el-mundo', 'name': 'El Mundo'}</td>\n",
              "      <td>None</td>\n",
              "      <td>Coronavirus España hoy, noticias de última hor...</td>\n",
              "      <td>Arranca la semana en que Pedro Sánchez tratará...</td>\n",
              "      <td>https://www.elmundo.es/ciencia-y-salud/ciencia...</td>\n",
              "      <td>https://i.ytimg.com/vi/_t9DvH1YEMk/maxresdefau...</td>\n",
              "      <td>2020-05-19T05:25:13Z</td>\n",
              "      <td>Arranca la semana en que Pedro Sánchez tratará...</td>\n",
              "    </tr>\n",
              "    <tr>\n",
              "      <th>9</th>\n",
              "      <td>{'id': 'google-news-ca', 'name': 'Google News ...</td>\n",
              "      <td>Sean Boynton</td>\n",
              "      <td>Trump tells WHO he’ll make funding freeze perm...</td>\n",
              "      <td>In a letter to the WHO's leader, Trump also sa...</td>\n",
              "      <td>http://globalnews.ca/news/6957773/trump-who-fu...</td>\n",
              "      <td>https://shawglobalnews.files.wordpress.com/202...</td>\n",
              "      <td>2020-05-19T05:24:08+00:00</td>\n",
              "      <td>U.S. President Donald Trump told the World Hea...</td>\n",
              "    </tr>\n",
              "    <tr>\n",
              "      <th>10</th>\n",
              "      <td>{'id': 'google-news', 'name': 'Google News'}</td>\n",
              "      <td>Analysis by Oliver Darcy, CNN Business</td>\n",
              "      <td>Fox News can't get its message straight on hyd...</td>\n",
              "      <td>Throughout the late-afternoon and into the nig...</td>\n",
              "      <td>https://www.cnn.com/2020/05/19/media/fox-news-...</td>\n",
              "      <td>https://cdn.cnn.com/cnnnext/dam/assets/2005190...</td>\n",
              "      <td>2020-05-19T05:12:52+00:00</td>\n",
              "      <td>Throughout the late-afternoon and into the nig...</td>\n",
              "    </tr>\n",
              "    <tr>\n",
              "      <th>11</th>\n",
              "      <td>{'id': 'nbc-news', 'name': 'NBC News'}</td>\n",
              "      <td>Didi Martinez, Brenda Breslauer, Kristen Welker</td>\n",
              "      <td>Trump admin taps startup to build nation's fir...</td>\n",
              "      <td>The Trump administration has signed a $354 mil...</td>\n",
              "      <td>https://www.nbcnews.com/news/us-news/trump-adm...</td>\n",
              "      <td>https://media2.s-nbcnews.com/j/newscms/2020_21...</td>\n",
              "      <td>2020-05-19T05:01:00Z</td>\n",
              "      <td>Seeking to secure the nation's supply of criti...</td>\n",
              "    </tr>\n",
              "    <tr>\n",
              "      <th>12</th>\n",
              "      <td>{'id': 'wirtschafts-woche', 'name': 'Wirtschaf...</td>\n",
              "      <td>Wirtschaftswoche</td>\n",
              "      <td>Hydroxychloroquin: US-Präsident Trump nimmt Ma...</td>\n",
              "      <td>Bislang gibt es keine wissenschaftlichen Beleg...</td>\n",
              "      <td>https://www.wiwo.de/politik/ausland/hydroxychl...</td>\n",
              "      <td>https://www.wiwo.de/images/donald-trump/258420...</td>\n",
              "      <td>2020-05-19T04:59:00+00:00</td>\n",
              "      <td>US-Präsident Donald Trump nimmt nach eigenen A...</td>\n",
              "    </tr>\n",
              "    <tr>\n",
              "      <th>13</th>\n",
              "      <td>{'id': 'news24', 'name': 'News24'}</td>\n",
              "      <td>None</td>\n",
              "      <td>Battleground social media: How disinformation,...</td>\n",
              "      <td>From Putin, Trump and Zuma directly to your sc...</td>\n",
              "      <td>https://www.news24.com/Analysis/battleground-s...</td>\n",
              "      <td>http://cdn.24.co.za/files/Cms/General/d/9277/f...</td>\n",
              "      <td>2020-05-19T04:58:23+00:00</td>\n",
              "      <td>To live in the 21st century is to be manipulat...</td>\n",
              "    </tr>\n",
              "    <tr>\n",
              "      <th>14</th>\n",
              "      <td>{'id': 'google-news', 'name': 'Google News'}</td>\n",
              "      <td>https://www.facebook.com/bbcnews</td>\n",
              "      <td>Trump gives WHO ultimatum over virus handling</td>\n",
              "      <td>The US president accuses the UN agency of havi...</td>\n",
              "      <td>https://www.bbc.com/news/world-us-canada-52718309</td>\n",
              "      <td>https://ichef.bbci.co.uk/news/1024/branded_new...</td>\n",
              "      <td>2020-05-19T04:58:07+00:00</td>\n",
              "      <td>Image copyrightGetty ImagesImage caption\\r\\n M...</td>\n",
              "    </tr>\n",
              "    <tr>\n",
              "      <th>15</th>\n",
              "      <td>{'id': 'bbc-news', 'name': 'BBC News'}</td>\n",
              "      <td>BBC News</td>\n",
              "      <td>Trump gives WHO ultimatum over virus handling</td>\n",
              "      <td>The US president accuses the UN agency of havi...</td>\n",
              "      <td>http://www.bbc.co.uk/news/world-us-canada-5271...</td>\n",
              "      <td>https://ichef.bbci.co.uk/news/1024/branded_new...</td>\n",
              "      <td>2020-05-19T04:56:47Z</td>\n",
              "      <td>Image copyrightGetty ImagesImage caption\\r\\n M...</td>\n",
              "    </tr>\n",
              "    <tr>\n",
              "      <th>16</th>\n",
              "      <td>{'id': 'cnn-es', 'name': 'CNN Spanish'}</td>\n",
              "      <td>CNN</td>\n",
              "      <td>Trump amenaza con retirar permanentemente los ...</td>\n",
              "      <td>En una carta enviada al director general de la...</td>\n",
              "      <td>https://cnnespanol.cnn.com/2020/05/19/trump-am...</td>\n",
              "      <td>https://cnnespanol2.files.wordpress.com/2020/0...</td>\n",
              "      <td>2020-05-19T04:55:39Z</td>\n",
              "      <td>¿Son válidas las críticas a la OMS? 3:02\\r\\n(C...</td>\n",
              "    </tr>\n",
              "    <tr>\n",
              "      <th>17</th>\n",
              "      <td>{'id': 'aftenposten', 'name': 'Aftenposten'}</td>\n",
              "      <td>Ingeborg Moe, Tor Arne Andreassen</td>\n",
              "      <td>Langer ut mot WHO, skryter av Gro Harlem Brund...</td>\n",
              "      <td>USAs president Donald Trump truer med å melde ...</td>\n",
              "      <td>https://www.aftenposten.no/verden/i/0n12kJ/Lan...</td>\n",
              "      <td>https://premium.vgc.no/ap/images/6f857c1b-e521...</td>\n",
              "      <td>2020-05-19T04:46:28Z</td>\n",
              "      <td>smp-stories-top-widget\\r\\nI et brev til sjefen...</td>\n",
              "    </tr>\n",
              "    <tr>\n",
              "      <th>18</th>\n",
              "      <td>{'id': 'reuters', 'name': 'Reuters'}</td>\n",
              "      <td>Reuters Editorial</td>\n",
              "      <td>Trump threatens permanent freeze of WHO fundin...</td>\n",
              "      <td>U.S. President Donald Trump threatened on Mond...</td>\n",
              "      <td>http://feeds.reuters.com/~r/reuters/topNews/~3...</td>\n",
              "      <td>https://s3.reutersmedia.net/resources/r/?m=02&amp;...</td>\n",
              "      <td>2020-05-19T04:42:54Z</td>\n",
              "      <td>(Reuters) - U.S. President Donald Trump threat...</td>\n",
              "    </tr>\n",
              "    <tr>\n",
              "      <th>19</th>\n",
              "      <td>{'id': 'aftenposten', 'name': 'Aftenposten'}</td>\n",
              "      <td>NTB-AP-AFP</td>\n",
              "      <td>Trump tar malariamedisin for å unngå å bli kor...</td>\n",
              "      <td>President Donald Trump sier han tar malariamed...</td>\n",
              "      <td>https://www.aftenposten.no/verden/i/opq0BK/Tru...</td>\n",
              "      <td>https://premium.vgc.no/ap/images/ec69129a-b332...</td>\n",
              "      <td>2020-05-19T04:37:29Z</td>\n",
              "      <td>smp-stories-top-widget\\r\\nTrump sier han har t...</td>\n",
              "    </tr>\n",
              "  </tbody>\n",
              "</table>\n",
              "</div>"
            ],
            "text/plain": [
              "                                               source  ...                                            content\n",
              "0   {'id': 'the-irish-times', 'name': 'The Irish T...  ...  The World Health Organisation (WHO) has bowed ...\n",
              "1   {'id': 'google-news-ca', 'name': 'Google News ...  ...  <ul><li>US President Donald Trump has threaten...\n",
              "2            {'id': 'usa-today', 'name': 'USA Today'}  ...  President Donald Trump said Monday he is takin...\n",
              "3   {'id': 'financial-times', 'name': 'Financial T...  ...  Donald Trump has been taking hydroxychloroquin...\n",
              "4   {'id': 'australian-financial-review', 'name': ...  ...  Last week, after Beijing had issued its draft ...\n",
              "5   {'id': 'google-news-au', 'name': 'Google News ...  ...  Washington: President Donald Trump escalated h...\n",
              "6   {'id': 'google-news-in', 'name': 'Google News ...  ...  US News: President Donald Trump said Monday th...\n",
              "7                  {'id': 'news24', 'name': 'News24'}  ...  US President Donald Trump threatened to perman...\n",
              "8              {'id': 'el-mundo', 'name': 'El Mundo'}  ...  Arranca la semana en que Pedro Sánchez tratará...\n",
              "9   {'id': 'google-news-ca', 'name': 'Google News ...  ...  U.S. President Donald Trump told the World Hea...\n",
              "10       {'id': 'google-news', 'name': 'Google News'}  ...  Throughout the late-afternoon and into the nig...\n",
              "11             {'id': 'nbc-news', 'name': 'NBC News'}  ...  Seeking to secure the nation's supply of criti...\n",
              "12  {'id': 'wirtschafts-woche', 'name': 'Wirtschaf...  ...  US-Präsident Donald Trump nimmt nach eigenen A...\n",
              "13                 {'id': 'news24', 'name': 'News24'}  ...  To live in the 21st century is to be manipulat...\n",
              "14       {'id': 'google-news', 'name': 'Google News'}  ...  Image copyrightGetty ImagesImage caption\\r\\n M...\n",
              "15             {'id': 'bbc-news', 'name': 'BBC News'}  ...  Image copyrightGetty ImagesImage caption\\r\\n M...\n",
              "16            {'id': 'cnn-es', 'name': 'CNN Spanish'}  ...  ¿Son válidas las críticas a la OMS? 3:02\\r\\n(C...\n",
              "17       {'id': 'aftenposten', 'name': 'Aftenposten'}  ...  smp-stories-top-widget\\r\\nI et brev til sjefen...\n",
              "18               {'id': 'reuters', 'name': 'Reuters'}  ...  (Reuters) - U.S. President Donald Trump threat...\n",
              "19       {'id': 'aftenposten', 'name': 'Aftenposten'}  ...  smp-stories-top-widget\\r\\nTrump sier han har t...\n",
              "\n",
              "[20 rows x 8 columns]"
            ]
          },
          "metadata": {
            "tags": []
          },
          "execution_count": 40
        }
      ]
    },
    {
      "cell_type": "code",
      "metadata": {
        "id": "fTaw1xsIfuBg",
        "colab_type": "code",
        "colab": {}
      },
      "source": [
        "# Top 20 Headlines in US"
      ],
      "execution_count": 0,
      "outputs": []
    },
    {
      "cell_type": "code",
      "metadata": {
        "id": "w2nZKMlhfuBj",
        "colab_type": "code",
        "colab": {}
      },
      "source": [
        "url7 = ('http://newsapi.org/v2/top-headlines?country=us&apiKey=b92f31e6a03f4cf8a1fb120e90ef5451')"
      ],
      "execution_count": 0,
      "outputs": []
    },
    {
      "cell_type": "code",
      "metadata": {
        "id": "9_KVpE5RfuBp",
        "colab_type": "code",
        "outputId": "eeb93b87-4792-4589-edcd-f4107f90fbf5",
        "colab": {
          "base_uri": "https://localhost:8080/",
          "height": 35
        }
      },
      "source": [
        "res = requests.get(url7,headers = headers)\n",
        "res.status_code"
      ],
      "execution_count": 0,
      "outputs": [
        {
          "output_type": "execute_result",
          "data": {
            "text/plain": [
              "200"
            ]
          },
          "metadata": {
            "tags": []
          },
          "execution_count": 43
        }
      ]
    },
    {
      "cell_type": "code",
      "metadata": {
        "id": "3to-Qa8EfuBr",
        "colab_type": "code",
        "colab": {}
      },
      "source": [
        "usheadlines=res.json()\n",
        "sorted(usheadlines.keys())\n",
        "usheadlines = usheadlines['articles']"
      ],
      "execution_count": 0,
      "outputs": []
    },
    {
      "cell_type": "code",
      "metadata": {
        "id": "EbGnmnSbfuBu",
        "colab_type": "code",
        "outputId": "b7868e79-f192-47a0-d15c-10ccd5f0501f",
        "colab": {
          "base_uri": "https://localhost:8080/",
          "height": 1000
        }
      },
      "source": [
        "df6 =  pd.DataFrame(usheadlines)\n",
        "df6"
      ],
      "execution_count": 0,
      "outputs": [
        {
          "output_type": "execute_result",
          "data": {
            "text/html": [
              "<div>\n",
              "<style scoped>\n",
              "    .dataframe tbody tr th:only-of-type {\n",
              "        vertical-align: middle;\n",
              "    }\n",
              "\n",
              "    .dataframe tbody tr th {\n",
              "        vertical-align: top;\n",
              "    }\n",
              "\n",
              "    .dataframe thead th {\n",
              "        text-align: right;\n",
              "    }\n",
              "</style>\n",
              "<table border=\"1\" class=\"dataframe\">\n",
              "  <thead>\n",
              "    <tr style=\"text-align: right;\">\n",
              "      <th></th>\n",
              "      <th>source</th>\n",
              "      <th>author</th>\n",
              "      <th>title</th>\n",
              "      <th>description</th>\n",
              "      <th>url</th>\n",
              "      <th>urlToImage</th>\n",
              "      <th>publishedAt</th>\n",
              "      <th>content</th>\n",
              "    </tr>\n",
              "  </thead>\n",
              "  <tbody>\n",
              "    <tr>\n",
              "      <th>0</th>\n",
              "      <td>{'id': None, 'name': 'Bbc.com'}</td>\n",
              "      <td>https://www.facebook.com/bbcnews</td>\n",
              "      <td>Coronavirus: Trump says he is taking unproven ...</td>\n",
              "      <td>The president claims hydroxychloroquine is har...</td>\n",
              "      <td>https://www.bbc.com/news/world-us-canada-52717161</td>\n",
              "      <td>https://ichef.bbci.co.uk/images/ic/1024x576/p0...</td>\n",
              "      <td>2020-05-19T05:55:13Z</td>\n",
              "      <td>Media playback is unsupported on your device\\r...</td>\n",
              "    </tr>\n",
              "    <tr>\n",
              "      <th>1</th>\n",
              "      <td>{'id': None, 'name': 'Nytimes.com'}</td>\n",
              "      <td>Catherine Porter</td>\n",
              "      <td>Toronto Fox Family Transfixes City Under Lockd...</td>\n",
              "      <td>Canada’s largest city was politely abiding by ...</td>\n",
              "      <td>https://www.nytimes.com/2020/05/18/world/canad...</td>\n",
              "      <td>https://static01.nyt.com/images/2020/05/17/wor...</td>\n",
              "      <td>2020-05-19T04:51:31Z</td>\n",
              "      <td>TORONTO A crowd of people bunched shoulder to ...</td>\n",
              "    </tr>\n",
              "    <tr>\n",
              "      <th>2</th>\n",
              "      <td>{'id': 'cnn', 'name': 'CNN'}</td>\n",
              "      <td>Ben Westcott, Vedika Sud and Manveena Suri, CNN</td>\n",
              "      <td>India and Bangladesh brace for the strongest s...</td>\n",
              "      <td>Millions of people in India and Bangladesh are...</td>\n",
              "      <td>https://www.cnn.com/2020/05/19/asia/super-cycl...</td>\n",
              "      <td>https://cdn.cnn.com/cnnnext/dam/assets/2005180...</td>\n",
              "      <td>2020-05-19T04:34:02Z</td>\n",
              "      <td>(CNN)Millions of people in India and Banglades...</td>\n",
              "    </tr>\n",
              "    <tr>\n",
              "      <th>3</th>\n",
              "      <td>{'id': 'cbs-news', 'name': 'CBS News'}</td>\n",
              "      <td>Ed O'Keefe</td>\n",
              "      <td>Trump tells governors on reopening: \"We will s...</td>\n",
              "      <td>The president made the remarks in a teleconfer...</td>\n",
              "      <td>https://www.cbsnews.com/news/trump-tells-gover...</td>\n",
              "      <td>https://cbsnews3.cbsistatic.com/hub/i/r/2020/0...</td>\n",
              "      <td>2020-05-19T04:27:24Z</td>\n",
              "      <td>President Trump told the nation's governors Mo...</td>\n",
              "    </tr>\n",
              "    <tr>\n",
              "      <th>4</th>\n",
              "      <td>{'id': None, 'name': 'Pitchfork.com'}</td>\n",
              "      <td>Madison Bloom</td>\n",
              "      <td>Billboard Responds to Tekashi 6ix9ine’s Corrup...</td>\n",
              "      <td>The rapper recently accused Billboard of manip...</td>\n",
              "      <td>https://pitchfork.com/news/billboard-responds-...</td>\n",
              "      <td>https://media.pitchfork.com/photos/5ec34effe54...</td>\n",
              "      <td>2020-05-19T03:52:02Z</td>\n",
              "      <td>On May 8, Tekashi 6ix9ine released GOOBA, his ...</td>\n",
              "    </tr>\n",
              "    <tr>\n",
              "      <th>5</th>\n",
              "      <td>{'id': None, 'name': 'Marketwatch.com'}</td>\n",
              "      <td>Mark DeCambre</td>\n",
              "      <td>Dow futures retreat as stock-market investors ...</td>\n",
              "      <td></td>\n",
              "      <td>https://www.marketwatch.com/story/dow-futures-...</td>\n",
              "      <td>https://s.marketwatch.com/public/resources/ima...</td>\n",
              "      <td>2020-05-19T03:35:15Z</td>\n",
              "      <td>U.S. stock-index futures indicated a lackluste...</td>\n",
              "    </tr>\n",
              "    <tr>\n",
              "      <th>6</th>\n",
              "      <td>{'id': 'the-verge', 'name': 'The Verge'}</td>\n",
              "      <td>Sam Byford</td>\n",
              "      <td>Samsung announces 50-megapixel camera sensor w...</td>\n",
              "      <td>Samsung has announced a new 50-megapixel camer...</td>\n",
              "      <td>https://www.theverge.com/2020/5/18/21263245/sa...</td>\n",
              "      <td>https://cdn.vox-cdn.com/thumbor/Y6qofE2NAKKsJ-...</td>\n",
              "      <td>2020-05-19T03:28:55Z</td>\n",
              "      <td>The Galaxy S20 Ultra was plagued with AF issue...</td>\n",
              "    </tr>\n",
              "    <tr>\n",
              "      <th>7</th>\n",
              "      <td>{'id': 'cnn', 'name': 'CNN'}</td>\n",
              "      <td>Gregory Lemos, CNN</td>\n",
              "      <td>A Florida man has been stuck on a ship for 62 ...</td>\n",
              "      <td>Taylor Grimes, from Winter Springs, Florida, t...</td>\n",
              "      <td>https://www.cnn.com/2020/05/18/us/florida-man-...</td>\n",
              "      <td>https://cdn.cnn.com/cnnnext/dam/assets/2005182...</td>\n",
              "      <td>2020-05-19T03:25:00Z</td>\n",
              "      <td>(CNN)A man from Winter Springs, Florida, told ...</td>\n",
              "    </tr>\n",
              "    <tr>\n",
              "      <th>8</th>\n",
              "      <td>{'id': 'cnn', 'name': 'CNN'}</td>\n",
              "      <td>Sandra Gonzalez, CNN</td>\n",
              "      <td>Brian Austin Green opens up about split with w...</td>\n",
              "      <td>Brian Austin Green has opened up about parting...</td>\n",
              "      <td>https://www.cnn.com/2020/05/18/entertainment/b...</td>\n",
              "      <td>https://cdn.cnn.com/cnnnext/dam/assets/1508200...</td>\n",
              "      <td>2020-05-19T03:24:59Z</td>\n",
              "      <td>(CNN)Brian Austin Green has opened up about pa...</td>\n",
              "    </tr>\n",
              "    <tr>\n",
              "      <th>9</th>\n",
              "      <td>{'id': 'cnbc', 'name': 'CNBC'}</td>\n",
              "      <td>Reuters</td>\n",
              "      <td>Nasdaq to tighten listing rules, restricting C...</td>\n",
              "      <td>Nasdaq's new curbs on Chinese IPOs represent t...</td>\n",
              "      <td>https://www.cnbc.com/2020/05/19/nasdaq-to-tigh...</td>\n",
              "      <td>https://image.cnbcfm.com/api/v1/image/10653707...</td>\n",
              "      <td>2020-05-19T02:21:54Z</td>\n",
              "      <td>A view outside Nasdaq in Times Square during t...</td>\n",
              "    </tr>\n",
              "    <tr>\n",
              "      <th>10</th>\n",
              "      <td>{'id': None, 'name': 'Startribune.com'}</td>\n",
              "      <td>Denise Grady, New York Times</td>\n",
              "      <td>Moderna coronavirus vaccine trial shows promis...</td>\n",
              "      <td>The preliminary findings in the first eight pe...</td>\n",
              "      <td>https://www.startribune.com/moderna-coronaviru...</td>\n",
              "      <td>https://stmedia.stimg.co/1589854891_13766241+V...</td>\n",
              "      <td>2020-05-19T02:19:14Z</td>\n",
              "      <td>The first coronavirus vaccine to be tested in ...</td>\n",
              "    </tr>\n",
              "    <tr>\n",
              "      <th>11</th>\n",
              "      <td>{'id': None, 'name': 'Cinemablend.com'}</td>\n",
              "      <td>Laura Hurley</td>\n",
              "      <td>Did The Bachelor: Listen To Your Heart Spoil T...</td>\n",
              "      <td>It was pretty easy to guess who was going to w...</td>\n",
              "      <td>https://www.cinemablend.com/television/2496471...</td>\n",
              "      <td>https://img.cinemablend.com/quill/2/a/f/5/6/8/...</td>\n",
              "      <td>2020-05-19T02:09:21Z</td>\n",
              "      <td>Spoilers ahead for the Season 1 finale of The ...</td>\n",
              "    </tr>\n",
              "    <tr>\n",
              "      <th>12</th>\n",
              "      <td>{'id': None, 'name': 'Bleachernation.com'}</td>\n",
              "      <td>Michael Cerami</td>\n",
              "      <td>Jerry Reinsdorf Was \"Not Pleased\" with MJ's Fi...</td>\n",
              "      <td>I have no doubt he wanted to go for seven. It'...</td>\n",
              "      <td>https://www.bleachernation.com/bulls/2020/05/1...</td>\n",
              "      <td>https://www.bleachernation.com/wp-content/uplo...</td>\n",
              "      <td>2020-05-19T02:05:00Z</td>\n",
              "      <td>At the end of the final episode of “The Last D...</td>\n",
              "    </tr>\n",
              "    <tr>\n",
              "      <th>13</th>\n",
              "      <td>{'id': None, 'name': 'Pagesix.com'}</td>\n",
              "      <td>Tamar Lapin</td>\n",
              "      <td>'Twilight' actor Gregory Tyree Boyce and girlf...</td>\n",
              "      <td>Gregory Tyree Boyce, 30, and Natalie Adepoju w...</td>\n",
              "      <td>https://pagesix.com/2020/05/18/twilight-actor-...</td>\n",
              "      <td>https://nyppagesix.files.wordpress.com/2020/05...</td>\n",
              "      <td>2020-05-19T02:00:39Z</td>\n",
              "      <td>“Twilight” actor Gregory Tyree Boyce and his 2...</td>\n",
              "    </tr>\n",
              "    <tr>\n",
              "      <th>14</th>\n",
              "      <td>{'id': None, 'name': 'Nbcsports.com'}</td>\n",
              "      <td>Dustin Long</td>\n",
              "      <td>Tuesday’s Xfinity race at Darlington: Start ti...</td>\n",
              "      <td>All the details for Tuesday night's scheduled ...</td>\n",
              "      <td>https://nascar.nbcsports.com/2020/05/18/harris...</td>\n",
              "      <td>https://nascar.nbcsports.com/wp-content/upload...</td>\n",
              "      <td>2020-05-19T01:34:00Z</td>\n",
              "      <td>It’s no secret that Tyler Reddick is a talente...</td>\n",
              "    </tr>\n",
              "    <tr>\n",
              "      <th>15</th>\n",
              "      <td>{'id': None, 'name': 'Latimes.com'}</td>\n",
              "      <td>Bill Shaikin</td>\n",
              "      <td>Gov. Newsom: Dodgers and Angels could play in ...</td>\n",
              "      <td>The Dodgers, Angels and other California MLB t...</td>\n",
              "      <td>https://www.latimes.com/sports/story/2020-05-1...</td>\n",
              "      <td>https://ca-times.brightspotcdn.com/dims4/defau...</td>\n",
              "      <td>2020-05-19T01:19:07Z</td>\n",
              "      <td>The Dodgers and Angels could return to their h...</td>\n",
              "    </tr>\n",
              "    <tr>\n",
              "      <th>16</th>\n",
              "      <td>{'id': None, 'name': 'Phonearena.com'}</td>\n",
              "      <td>Anam Hamid</td>\n",
              "      <td>Google Pixel 4a will reportedly ditch Active E...</td>\n",
              "      <td>The feature triggers certain actions when the ...</td>\n",
              "      <td>https://www.phonearena.com/news/Pixel-4a-will-...</td>\n",
              "      <td>https://i-cdn.phonearena.com/images/article/12...</td>\n",
              "      <td>2020-05-19T01:03:00Z</td>\n",
              "      <td>All content, features, and design are Copyrigh...</td>\n",
              "    </tr>\n",
              "    <tr>\n",
              "      <th>17</th>\n",
              "      <td>{'id': None, 'name': 'Nytimes.com'}</td>\n",
              "      <td>Andrew Jacobs, Michael D. Shear, Edward Wong</td>\n",
              "      <td>U.S.-China Feud Over Coronavirus Erupts at Wor...</td>\n",
              "      <td>China’s president pledged $2 billion to fight ...</td>\n",
              "      <td>https://www.nytimes.com/2020/05/18/health/coro...</td>\n",
              "      <td>https://static01.nyt.com/images/2020/05/18/sci...</td>\n",
              "      <td>2020-05-19T00:39:08Z</td>\n",
              "      <td>A meeting of the World Health Organization tha...</td>\n",
              "    </tr>\n",
              "    <tr>\n",
              "      <th>18</th>\n",
              "      <td>{'id': 'fox-news', 'name': 'Fox News'}</td>\n",
              "      <td>Victor Garcia</td>\n",
              "      <td>Nunes claims 'dozens' of unmaskings of Trump a...</td>\n",
              "      <td>House Intelligence Committee ranking member De...</td>\n",
              "      <td>https://www.foxnews.com/media/devin-nunes-unma...</td>\n",
              "      <td>https://static.foxnews.com/foxnews.com/content...</td>\n",
              "      <td>2020-05-19T00:16:19Z</td>\n",
              "      <td>House Intelligence Committee ranking member De...</td>\n",
              "    </tr>\n",
              "    <tr>\n",
              "      <th>19</th>\n",
              "      <td>{'id': None, 'name': '9to5mac.com'}</td>\n",
              "      <td>None</td>\n",
              "      <td>HTC’s leaked AirPods clone offers the two feat...</td>\n",
              "      <td>For people who have been calling on Apple to o...</td>\n",
              "      <td>https://9to5mac.com/2020/05/18/htc-black-airpo...</td>\n",
              "      <td>https://9to5mac.com/wp-content/uploads/sites/6...</td>\n",
              "      <td>2020-05-19T00:02:25Z</td>\n",
              "      <td>For people who have been calling on Apple to o...</td>\n",
              "    </tr>\n",
              "  </tbody>\n",
              "</table>\n",
              "</div>"
            ],
            "text/plain": [
              "                                        source  ...                                            content\n",
              "0              {'id': None, 'name': 'Bbc.com'}  ...  Media playback is unsupported on your device\\r...\n",
              "1          {'id': None, 'name': 'Nytimes.com'}  ...  TORONTO A crowd of people bunched shoulder to ...\n",
              "2                 {'id': 'cnn', 'name': 'CNN'}  ...  (CNN)Millions of people in India and Banglades...\n",
              "3       {'id': 'cbs-news', 'name': 'CBS News'}  ...  President Trump told the nation's governors Mo...\n",
              "4        {'id': None, 'name': 'Pitchfork.com'}  ...  On May 8, Tekashi 6ix9ine released GOOBA, his ...\n",
              "5      {'id': None, 'name': 'Marketwatch.com'}  ...  U.S. stock-index futures indicated a lackluste...\n",
              "6     {'id': 'the-verge', 'name': 'The Verge'}  ...  The Galaxy S20 Ultra was plagued with AF issue...\n",
              "7                 {'id': 'cnn', 'name': 'CNN'}  ...  (CNN)A man from Winter Springs, Florida, told ...\n",
              "8                 {'id': 'cnn', 'name': 'CNN'}  ...  (CNN)Brian Austin Green has opened up about pa...\n",
              "9               {'id': 'cnbc', 'name': 'CNBC'}  ...  A view outside Nasdaq in Times Square during t...\n",
              "10     {'id': None, 'name': 'Startribune.com'}  ...  The first coronavirus vaccine to be tested in ...\n",
              "11     {'id': None, 'name': 'Cinemablend.com'}  ...  Spoilers ahead for the Season 1 finale of The ...\n",
              "12  {'id': None, 'name': 'Bleachernation.com'}  ...  At the end of the final episode of “The Last D...\n",
              "13         {'id': None, 'name': 'Pagesix.com'}  ...  “Twilight” actor Gregory Tyree Boyce and his 2...\n",
              "14       {'id': None, 'name': 'Nbcsports.com'}  ...  It’s no secret that Tyler Reddick is a talente...\n",
              "15         {'id': None, 'name': 'Latimes.com'}  ...  The Dodgers and Angels could return to their h...\n",
              "16      {'id': None, 'name': 'Phonearena.com'}  ...  All content, features, and design are Copyrigh...\n",
              "17         {'id': None, 'name': 'Nytimes.com'}  ...  A meeting of the World Health Organization tha...\n",
              "18      {'id': 'fox-news', 'name': 'Fox News'}  ...  House Intelligence Committee ranking member De...\n",
              "19         {'id': None, 'name': '9to5mac.com'}  ...  For people who have been calling on Apple to o...\n",
              "\n",
              "[20 rows x 8 columns]"
            ]
          },
          "metadata": {
            "tags": []
          },
          "execution_count": 45
        }
      ]
    },
    {
      "cell_type": "code",
      "metadata": {
        "id": "VFDbvKzxfuBx",
        "colab_type": "code",
        "outputId": "82e9c248-3b0b-432c-c6c5-9f8dc5b0e251",
        "colab": {
          "base_uri": "https://localhost:8080/",
          "height": 289
        }
      },
      "source": [
        "# we will combine all news headlines together\n",
        "finaldf= pd.concat([df,df2,df3,df4,df5,df6],sort=True).reset_index(drop=True)\n",
        "finaldf.head()"
      ],
      "execution_count": 0,
      "outputs": [
        {
          "output_type": "execute_result",
          "data": {
            "text/html": [
              "<div>\n",
              "<style scoped>\n",
              "    .dataframe tbody tr th:only-of-type {\n",
              "        vertical-align: middle;\n",
              "    }\n",
              "\n",
              "    .dataframe tbody tr th {\n",
              "        vertical-align: top;\n",
              "    }\n",
              "\n",
              "    .dataframe thead th {\n",
              "        text-align: right;\n",
              "    }\n",
              "</style>\n",
              "<table border=\"1\" class=\"dataframe\">\n",
              "  <thead>\n",
              "    <tr style=\"text-align: right;\">\n",
              "      <th></th>\n",
              "      <th>author</th>\n",
              "      <th>content</th>\n",
              "      <th>description</th>\n",
              "      <th>publishedAt</th>\n",
              "      <th>source</th>\n",
              "      <th>title</th>\n",
              "      <th>url</th>\n",
              "      <th>urlToImage</th>\n",
              "    </tr>\n",
              "  </thead>\n",
              "  <tbody>\n",
              "    <tr>\n",
              "      <th>0</th>\n",
              "      <td>BBC News</td>\n",
              "      <td>Image copyrightGetty ImagesImage caption\\r\\n T...</td>\n",
              "      <td>The storm is expected to make landfall on Wedn...</td>\n",
              "      <td>2020-05-19T05:45:03Z</td>\n",
              "      <td>{'id': 'bbc-news', 'name': 'BBC News'}</td>\n",
              "      <td>India evacuates millions ahead of super cyclone</td>\n",
              "      <td>http://www.bbc.co.uk/news/world-asia-india-527...</td>\n",
              "      <td>https://ichef.bbci.co.uk/news/1024/branded_new...</td>\n",
              "    </tr>\n",
              "    <tr>\n",
              "      <th>1</th>\n",
              "      <td>BBC News</td>\n",
              "      <td>Image copyrightGetty ImagesImage caption\\r\\n M...</td>\n",
              "      <td>The US president accuses the UN agency of havi...</td>\n",
              "      <td>2020-05-19T04:56:47Z</td>\n",
              "      <td>{'id': 'bbc-news', 'name': 'BBC News'}</td>\n",
              "      <td>Trump gives WHO ultimatum over virus handling</td>\n",
              "      <td>http://www.bbc.co.uk/news/world-us-canada-5271...</td>\n",
              "      <td>https://ichef.bbci.co.uk/news/1024/branded_new...</td>\n",
              "    </tr>\n",
              "    <tr>\n",
              "      <th>2</th>\n",
              "      <td>BBC News</td>\n",
              "      <td>Image copyrightReutersImage caption\\r\\n The dr...</td>\n",
              "      <td>Police find the biggest ever haul of synthetic...</td>\n",
              "      <td>2020-05-19T03:17:19Z</td>\n",
              "      <td>{'id': 'bbc-news', 'name': 'BBC News'}</td>\n",
              "      <td>Myanmar drugs seizure 'off the scale'</td>\n",
              "      <td>http://www.bbc.co.uk/news/world-asia-52712014</td>\n",
              "      <td>https://ichef.bbci.co.uk/news/1024/branded_new...</td>\n",
              "    </tr>\n",
              "    <tr>\n",
              "      <th>3</th>\n",
              "      <td>BBC News</td>\n",
              "      <td>US President Donald Trump has accused the Worl...</td>\n",
              "      <td>President Trump - who faces re-election this y...</td>\n",
              "      <td>2020-05-19T02:07:25.9107814Z</td>\n",
              "      <td>{'id': 'bbc-news', 'name': 'BBC News'}</td>\n",
              "      <td>Coronavirus updates: Trump slams WHO as 'puppe...</td>\n",
              "      <td>http://www.bbc.co.uk/news/live/world-52717664</td>\n",
              "      <td>https://m.files.bbci.co.uk/modules/bbc-morph-n...</td>\n",
              "    </tr>\n",
              "    <tr>\n",
              "      <th>4</th>\n",
              "      <td>BBC News</td>\n",
              "      <td>None</td>\n",
              "      <td>The sneaker industry now accounts for almost h...</td>\n",
              "      <td>2020-05-18T23:39:59Z</td>\n",
              "      <td>{'id': 'bbc-news', 'name': 'BBC News'}</td>\n",
              "      <td>The secret in your sneakers</td>\n",
              "      <td>http://www.bbc.co.uk/news/stories-52708487</td>\n",
              "      <td>https://ichef.bbci.co.uk/news/1024/branded_new...</td>\n",
              "    </tr>\n",
              "  </tbody>\n",
              "</table>\n",
              "</div>"
            ],
            "text/plain": [
              "     author  ...                                         urlToImage\n",
              "0  BBC News  ...  https://ichef.bbci.co.uk/news/1024/branded_new...\n",
              "1  BBC News  ...  https://ichef.bbci.co.uk/news/1024/branded_new...\n",
              "2  BBC News  ...  https://ichef.bbci.co.uk/news/1024/branded_new...\n",
              "3  BBC News  ...  https://m.files.bbci.co.uk/modules/bbc-morph-n...\n",
              "4  BBC News  ...  https://ichef.bbci.co.uk/news/1024/branded_new...\n",
              "\n",
              "[5 rows x 8 columns]"
            ]
          },
          "metadata": {
            "tags": []
          },
          "execution_count": 60
        }
      ]
    },
    {
      "cell_type": "markdown",
      "metadata": {
        "id": "92tmLyRPzOVV",
        "colab_type": "text"
      },
      "source": [
        "Preprocessing of the dataframe for all combined news headlines."
      ]
    },
    {
      "cell_type": "code",
      "metadata": {
        "id": "HtXBjaFrfuB1",
        "colab_type": "code",
        "outputId": "08bda203-4fe5-4287-bff7-3f3b975dca61",
        "colab": {
          "base_uri": "https://localhost:8080/",
          "height": 141
        }
      },
      "source": [
        "# create a new column named \"headlines\" to combine title and description together\n",
        "finaldf['headlines'] = finaldf[\"title\"] \n",
        "#Convert headlines into string first so that we can combine via the dates later.\n",
        "finaldf['headlines'] = finaldf['headlines'].astype(str)\n",
        "#to remove the columns that we do not need\n",
        "finaldf = finaldf.drop(['author', 'source','url','description','title','urlToImage','content'], axis=1)\n",
        "#change to date to datetime.\n",
        "finaldf['publishedAt'] = finaldf['publishedAt'].str[:10]\n",
        "finaldf['publishedAt'] = pd.to_datetime(finaldf['publishedAt'])\n",
        "#group the headlines according to dates.\n",
        "finaldf = (finaldf.groupby('publishedAt').agg({'headlines' : lambda x: ' '.join(x.unique())}))\n",
        "finaldf.head()"
      ],
      "execution_count": 0,
      "outputs": [
        {
          "output_type": "execute_result",
          "data": {
            "text/html": [
              "<div>\n",
              "<style scoped>\n",
              "    .dataframe tbody tr th:only-of-type {\n",
              "        vertical-align: middle;\n",
              "    }\n",
              "\n",
              "    .dataframe tbody tr th {\n",
              "        vertical-align: top;\n",
              "    }\n",
              "\n",
              "    .dataframe thead th {\n",
              "        text-align: right;\n",
              "    }\n",
              "</style>\n",
              "<table border=\"1\" class=\"dataframe\">\n",
              "  <thead>\n",
              "    <tr style=\"text-align: right;\">\n",
              "      <th></th>\n",
              "      <th>headlines</th>\n",
              "    </tr>\n",
              "    <tr>\n",
              "      <th>publishedAt</th>\n",
              "      <th></th>\n",
              "    </tr>\n",
              "  </thead>\n",
              "  <tbody>\n",
              "    <tr>\n",
              "      <th>2020-05-18</th>\n",
              "      <td>The secret in your sneakers What's going wrong...</td>\n",
              "    </tr>\n",
              "    <tr>\n",
              "      <th>2020-05-19</th>\n",
              "      <td>India evacuates millions ahead of super cyclon...</td>\n",
              "    </tr>\n",
              "  </tbody>\n",
              "</table>\n",
              "</div>"
            ],
            "text/plain": [
              "                                                     headlines\n",
              "publishedAt                                                   \n",
              "2020-05-18   The secret in your sneakers What's going wrong...\n",
              "2020-05-19   India evacuates millions ahead of super cyclon..."
            ]
          },
          "metadata": {
            "tags": []
          },
          "execution_count": 47
        }
      ]
    },
    {
      "cell_type": "code",
      "metadata": {
        "id": "qUsO8at9fuB7",
        "colab_type": "code",
        "colab": {}
      },
      "source": [
        "#redefine our dataframe to name it new X for modelling purposes.\n",
        "newX = finaldf['headlines']"
      ],
      "execution_count": 0,
      "outputs": []
    },
    {
      "cell_type": "markdown",
      "metadata": {
        "id": "ZD_AaIANfuB8",
        "colab_type": "text"
      },
      "source": [
        "# Run through our dataset on the first model "
      ]
    },
    {
      "cell_type": "code",
      "metadata": {
        "id": "elfUl56wfuB9",
        "colab_type": "code",
        "colab": {}
      },
      "source": [
        "#num_words - This will be the maximum number of words \n",
        "#from our resulting tokenized data vocabulary which are to be used, \n",
        "#truncated after the 10000 most common words in our case.\n",
        "tokenizer = Tokenizer(num_words=10000)\n",
        "# Tokenize our training data'trainheadlines'\n",
        "tokenizer.fit_on_texts(newX)\n",
        "# Encode training data sentences into sequences for both train and test data.\n",
        "sequences_train = tokenizer.texts_to_sequences(newX)"
      ],
      "execution_count": 0,
      "outputs": []
    },
    {
      "cell_type": "code",
      "metadata": {
        "id": "G62hxImFfuB_",
        "colab_type": "code",
        "colab": {}
      },
      "source": [
        "#Features for model training\n",
        "#nb_classes - total number of classes.\n",
        "nb_classes = 2\n",
        "# maxlen is feature of maximum sequence length for padding our encoded sentences\n",
        "maxlen = 200\n",
        "\n",
        "# Pad the training sequences as we need our encoded sequences to be of the same length. \n",
        "# use that to pad all other sequences with extra '0's at the end ('post') and\n",
        "# will also truncate any sequences longer than maximum length from the end ('post') as well. \n",
        "newX = sequence.pad_sequences(sequences_train, maxlen=maxlen)"
      ],
      "execution_count": 0,
      "outputs": []
    },
    {
      "cell_type": "code",
      "metadata": {
        "id": "YvJXNuBbfuCC",
        "colab_type": "code",
        "outputId": "45e61897-c551-4a02-a5e4-04db11ae833b",
        "colab": {
          "base_uri": "https://localhost:8080/",
          "height": 110
        }
      },
      "source": [
        "#predict y value which is the fear index for 18 May and 19 May\n",
        "yhat = model.predict_classes(newX)\n",
        "#time to convert into dataframe\n",
        "predicty =  pd.DataFrame(yhat)\n",
        "predicty"
      ],
      "execution_count": 0,
      "outputs": [
        {
          "output_type": "execute_result",
          "data": {
            "text/html": [
              "<div>\n",
              "<style scoped>\n",
              "    .dataframe tbody tr th:only-of-type {\n",
              "        vertical-align: middle;\n",
              "    }\n",
              "\n",
              "    .dataframe tbody tr th {\n",
              "        vertical-align: top;\n",
              "    }\n",
              "\n",
              "    .dataframe thead th {\n",
              "        text-align: right;\n",
              "    }\n",
              "</style>\n",
              "<table border=\"1\" class=\"dataframe\">\n",
              "  <thead>\n",
              "    <tr style=\"text-align: right;\">\n",
              "      <th></th>\n",
              "      <th>0</th>\n",
              "    </tr>\n",
              "  </thead>\n",
              "  <tbody>\n",
              "    <tr>\n",
              "      <th>0</th>\n",
              "      <td>1</td>\n",
              "    </tr>\n",
              "    <tr>\n",
              "      <th>1</th>\n",
              "      <td>0</td>\n",
              "    </tr>\n",
              "  </tbody>\n",
              "</table>\n",
              "</div>"
            ],
            "text/plain": [
              "   0\n",
              "0  1\n",
              "1  0"
            ]
          },
          "metadata": {
            "tags": []
          },
          "execution_count": 51
        }
      ]
    },
    {
      "cell_type": "markdown",
      "metadata": {
        "id": "jH8SBUaa1jKl",
        "colab_type": "text"
      },
      "source": [
        "We have trained our model to predict the fear sentiment in the market. "
      ]
    },
    {
      "cell_type": "code",
      "metadata": {
        "id": "qfNiCjUtfuCE",
        "colab_type": "code",
        "colab": {}
      },
      "source": [
        "# Run through our dataset on the 2nd model (sentiment analysis)"
      ],
      "execution_count": 0,
      "outputs": []
    },
    {
      "cell_type": "code",
      "metadata": {
        "id": "e3IKBRkmfuCI",
        "colab_type": "code",
        "outputId": "01efad1b-3735-4afa-856c-b86abe3ad01d",
        "colab": {
          "base_uri": "https://localhost:8080/",
          "height": 87
        }
      },
      "source": [
        "pol = lambda x : TextBlob(x).sentiment.polarity\n",
        "sentiment = finaldf['headlines'].apply(pol)\n",
        "sentiment"
      ],
      "execution_count": 0,
      "outputs": [
        {
          "output_type": "execute_result",
          "data": {
            "text/plain": [
              "publishedAt\n",
              "2020-05-18   -0.093939\n",
              "2020-05-19    0.028348\n",
              "Name: headlines, dtype: float64"
            ]
          },
          "metadata": {
            "tags": []
          },
          "execution_count": 53
        }
      ]
    },
    {
      "cell_type": "code",
      "metadata": {
        "id": "flniWKV_rpPI",
        "colab_type": "code",
        "outputId": "1e1a9b02-687c-4f1d-958d-4f67625744f6",
        "colab": {
          "base_uri": "https://localhost:8080/",
          "height": 141
        }
      },
      "source": [
        "#time to convert this into datafarme\n",
        "predictions  = pd.DataFrame(sentiment)\n",
        "predictions"
      ],
      "execution_count": 0,
      "outputs": [
        {
          "output_type": "execute_result",
          "data": {
            "text/html": [
              "<div>\n",
              "<style scoped>\n",
              "    .dataframe tbody tr th:only-of-type {\n",
              "        vertical-align: middle;\n",
              "    }\n",
              "\n",
              "    .dataframe tbody tr th {\n",
              "        vertical-align: top;\n",
              "    }\n",
              "\n",
              "    .dataframe thead th {\n",
              "        text-align: right;\n",
              "    }\n",
              "</style>\n",
              "<table border=\"1\" class=\"dataframe\">\n",
              "  <thead>\n",
              "    <tr style=\"text-align: right;\">\n",
              "      <th></th>\n",
              "      <th>headlines</th>\n",
              "    </tr>\n",
              "    <tr>\n",
              "      <th>publishedAt</th>\n",
              "      <th></th>\n",
              "    </tr>\n",
              "  </thead>\n",
              "  <tbody>\n",
              "    <tr>\n",
              "      <th>2020-05-18</th>\n",
              "      <td>-0.093939</td>\n",
              "    </tr>\n",
              "    <tr>\n",
              "      <th>2020-05-19</th>\n",
              "      <td>0.028348</td>\n",
              "    </tr>\n",
              "  </tbody>\n",
              "</table>\n",
              "</div>"
            ],
            "text/plain": [
              "             headlines\n",
              "publishedAt           \n",
              "2020-05-18   -0.093939\n",
              "2020-05-19    0.028348"
            ]
          },
          "metadata": {
            "tags": []
          },
          "execution_count": 54
        }
      ]
    },
    {
      "cell_type": "code",
      "metadata": {
        "id": "oY9aFglmfuCP",
        "colab_type": "code",
        "colab": {}
      },
      "source": [
        "#we want to save our news headlines and our predictions as well"
      ],
      "execution_count": 0,
      "outputs": []
    },
    {
      "cell_type": "code",
      "metadata": {
        "id": "9A3YSdjcfuCT",
        "colab_type": "code",
        "outputId": "0bbed4c1-0291-4055-b39c-085697559ba9",
        "colab": {
          "base_uri": "https://localhost:8080/",
          "height": 35
        }
      },
      "source": [
        "from google.colab import drive\n",
        "drive.mount('/drive')"
      ],
      "execution_count": 0,
      "outputs": [
        {
          "output_type": "stream",
          "text": [
            "Drive already mounted at /drive; to attempt to forcibly remount, call drive.mount(\"/drive\", force_remount=True).\n"
          ],
          "name": "stdout"
        }
      ]
    },
    {
      "cell_type": "code",
      "metadata": {
        "id": "DB5_ryWKp0uf",
        "colab_type": "code",
        "colab": {}
      },
      "source": [
        "#savings our news headlines to google drive folder\n",
        "finaldf.to_csv('/drive/My Drive/Colab Notebooks/newsheadlines.csv')\n",
        "#this folder is to append for past recording\n",
        "finaldf.to_csv('/drive/My Drive/Colab Notebooks/pastnewsheadlines.csv')"
      ],
      "execution_count": 0,
      "outputs": []
    },
    {
      "cell_type": "code",
      "metadata": {
        "id": "CD_VGqLituNx",
        "colab_type": "code",
        "outputId": "328b72ea-b740-4b55-b6c6-11d4d17b3372",
        "colab": {
          "base_uri": "https://localhost:8080/",
          "height": 171
        }
      },
      "source": [
        "#savings our predictions from model to google drive folder\n",
        "merged_df = pd.concat([predictions, predicty])\n",
        "merged_df"
      ],
      "execution_count": 0,
      "outputs": [
        {
          "output_type": "execute_result",
          "data": {
            "text/html": [
              "<div>\n",
              "<style scoped>\n",
              "    .dataframe tbody tr th:only-of-type {\n",
              "        vertical-align: middle;\n",
              "    }\n",
              "\n",
              "    .dataframe tbody tr th {\n",
              "        vertical-align: top;\n",
              "    }\n",
              "\n",
              "    .dataframe thead th {\n",
              "        text-align: right;\n",
              "    }\n",
              "</style>\n",
              "<table border=\"1\" class=\"dataframe\">\n",
              "  <thead>\n",
              "    <tr style=\"text-align: right;\">\n",
              "      <th></th>\n",
              "      <th>headlines</th>\n",
              "      <th>0</th>\n",
              "    </tr>\n",
              "  </thead>\n",
              "  <tbody>\n",
              "    <tr>\n",
              "      <th>2020-05-18 00:00:00</th>\n",
              "      <td>-0.093939</td>\n",
              "      <td>NaN</td>\n",
              "    </tr>\n",
              "    <tr>\n",
              "      <th>2020-05-19 00:00:00</th>\n",
              "      <td>0.028348</td>\n",
              "      <td>NaN</td>\n",
              "    </tr>\n",
              "    <tr>\n",
              "      <th>0</th>\n",
              "      <td>NaN</td>\n",
              "      <td>1.0</td>\n",
              "    </tr>\n",
              "    <tr>\n",
              "      <th>1</th>\n",
              "      <td>NaN</td>\n",
              "      <td>0.0</td>\n",
              "    </tr>\n",
              "  </tbody>\n",
              "</table>\n",
              "</div>"
            ],
            "text/plain": [
              "                     headlines    0\n",
              "2020-05-18 00:00:00  -0.093939  NaN\n",
              "2020-05-19 00:00:00   0.028348  NaN\n",
              "0                          NaN  1.0\n",
              "1                          NaN  0.0"
            ]
          },
          "metadata": {
            "tags": []
          },
          "execution_count": 58
        }
      ]
    },
    {
      "cell_type": "code",
      "metadata": {
        "id": "Tqc5D_j3qhFv",
        "colab_type": "code",
        "colab": {}
      },
      "source": [
        "merged_df.to_csv('/drive/My Drive/Colab Notebooks/predictions.csv')\n",
        "#this file is to append predictions for recording\n",
        "merged_df.to_csv('/drive/My Drive/Colab Notebooks/pastpredictions.csv')\n"
      ],
      "execution_count": 0,
      "outputs": []
    }
  ]
}